{
 "cells": [
  {
   "cell_type": "markdown",
   "metadata": {},
   "source": [
    "## Sumit Saha - 16BCE1397\n",
    "## Large Scale Data Processing (CSE3025)\n",
    "## J - Component"
   ]
  },
  {
   "cell_type": "markdown",
   "metadata": {},
   "source": [
    "## Topic: Measuring Baryon Asymmetries using LHCb Collision data\n",
    "\n",
    "### 1. What is the importance of the (Baryon Asymmetry) Matter-Antimatter Asymmetry problem?\n",
    "\n",
    "In the very beginning of the Universe, matter and anti-matter were to be found in equal proportions of each other. When particles and its anti-particles come together, they annihilate and leave behind nothing but pure energy. But, this means that matter as we know it shouldn't have existed in the first place. Study of why our Universe does not follow the ideal path where matter and antimatter pop in and out of existense, would enable scientists understand the reason behind matter as we know it.  \n",
    "\n",
    "This imbalance in Baryonic Matter (Matter) and Anit-Baryonic Matter (Anti-matter) in the observable Universe is known as the Baryon Asymmetry Problem."
   ]
  },
  {
   "cell_type": "code",
   "execution_count": 1,
   "metadata": {},
   "outputs": [
    {
     "name": "stdout",
     "output_type": "stream",
     "text": [
      "Populating the interactive namespace from numpy and matplotlib\n"
     ]
    }
   ],
   "source": [
    "from pyspark.sql import SparkSession\n",
    "from __future__ import print_function\n",
    "from __future__ import division\n",
    "\n",
    "%pylab inline\n",
    "pylab.rcParams['figure.figsize'] = (13.0, 8.0)\n",
    "\n",
    "spark = SparkSession.builder \\\n",
    "        .appName(\"LHCb Open Data with Spark\") \\\n",
    "        .config(\"spark.jars.packages\", \"org.diana-hep:spark-root_2.11:0.1.11\") \\\n",
    "        .getOrCreate()\n",
    "\n",
    "sql = spark.sql"
   ]
  },
  {
   "cell_type": "markdown",
   "metadata": {},
   "source": [
    "## Datasets\n",
    "\n",
    "1. Simulation Data: http://opendata.cern.ch/eos/opendata/lhcb/AntimatterMatters2017/data/PhaseSpaceSimulation.root\n",
    "2. Measurement Data (Baryon 2-Up): http://opendata.cern.ch/eos/opendata/lhcb/AntimatterMatters2017/data/B2HHH_MagnetDown.root\n",
    "3. Measurement Data (Baryon 2-Down): http://opendata.cern.ch/eos/opendata/lhcb/AntimatterMatters2017/data/B2HHH_MagnetUp.root"
   ]
  },
  {
   "cell_type": "markdown",
   "metadata": {},
   "source": [
    "### What are ROOT files?\n",
    "\n",
    "Datasets are compressed into different formats to compliment analyses by reducing disk space. Even though Binary Compressions have been very effective, it has been difficult to work with due to poor machine-independence characteristics. Such issue are handled by the ROOT framework for generating .root files  "
   ]
  },
  {
   "cell_type": "code",
   "execution_count": 3,
   "metadata": {},
   "outputs": [
    {
     "data": {
      "text/plain": [
       "50000"
      ]
     },
     "execution_count": 3,
     "metadata": {},
     "output_type": "execute_result"
    }
   ],
   "source": [
    "data_directory = \"/Users/sumitsaha/GHR/spark_project/\"\n",
    "\n",
    "simulation_data = spark.read.format(\"org.dianahep.sparkroot\").load(data_directory + \"PhaseSpaceSimulation.root\")\n",
    "simulation_data.createOrReplaceTempView(\"sim_data\") \n",
    "\n",
    "simulation_data.cache() # it is a small dataset (~2 MB) so we can afford to cache it\n",
    "simulation_data.count()"
   ]
  },
  {
   "cell_type": "code",
   "execution_count": 8,
   "metadata": {},
   "outputs": [
    {
     "name": "stdout",
     "output_type": "stream",
     "text": [
      "root\n",
      " |-- B_FlightDistance: double (nullable = true)\n",
      " |-- B_VertexChi2: double (nullable = true)\n",
      " |-- H1_PX: double (nullable = true)\n",
      " |-- H1_PY: double (nullable = true)\n",
      " |-- H1_PZ: double (nullable = true)\n",
      " |-- H1_ProbK: double (nullable = true)\n",
      " |-- H1_ProbPi: double (nullable = true)\n",
      " |-- H1_Charge: integer (nullable = true)\n",
      " |-- H1_IPChi2: double (nullable = true)\n",
      " |-- H1_isMuon: integer (nullable = true)\n",
      " |-- H2_PX: double (nullable = true)\n",
      " |-- H2_PY: double (nullable = true)\n",
      " |-- H2_PZ: double (nullable = true)\n",
      " |-- H2_ProbK: double (nullable = true)\n",
      " |-- H2_ProbPi: double (nullable = true)\n",
      " |-- H2_Charge: integer (nullable = true)\n",
      " |-- H2_IPChi2: double (nullable = true)\n",
      " |-- H2_isMuon: integer (nullable = true)\n",
      " |-- H3_PX: double (nullable = true)\n",
      " |-- H3_PY: double (nullable = true)\n",
      " |-- H3_PZ: double (nullable = true)\n",
      " |-- H3_ProbK: double (nullable = true)\n",
      " |-- H3_ProbPi: double (nullable = true)\n",
      " |-- H3_Charge: integer (nullable = true)\n",
      " |-- H3_IPChi2: double (nullable = true)\n",
      " |-- H3_isMuon: integer (nullable = true)\n",
      "\n"
     ]
    }
   ],
   "source": [
    "simulation_data.printSchema()"
   ]
  },
  {
   "cell_type": "code",
   "execution_count": 4,
   "metadata": {},
   "outputs": [
    {
     "data": {
      "text/html": [
       "<div>\n",
       "<style scoped>\n",
       "    .dataframe tbody tr th:only-of-type {\n",
       "        vertical-align: middle;\n",
       "    }\n",
       "\n",
       "    .dataframe tbody tr th {\n",
       "        vertical-align: top;\n",
       "    }\n",
       "\n",
       "    .dataframe thead th {\n",
       "        text-align: right;\n",
       "    }\n",
       "</style>\n",
       "<table border=\"1\" class=\"dataframe\">\n",
       "  <thead>\n",
       "    <tr style=\"text-align: right;\">\n",
       "      <th></th>\n",
       "      <th>B_FlightDistance</th>\n",
       "      <th>B_VertexChi2</th>\n",
       "      <th>H1_PX</th>\n",
       "      <th>H1_PY</th>\n",
       "      <th>H1_PZ</th>\n",
       "      <th>H1_ProbK</th>\n",
       "      <th>H1_ProbPi</th>\n",
       "      <th>H1_Charge</th>\n",
       "      <th>H1_IPChi2</th>\n",
       "      <th>H1_isMuon</th>\n",
       "      <th>...</th>\n",
       "      <th>H2_IPChi2</th>\n",
       "      <th>H2_isMuon</th>\n",
       "      <th>H3_PX</th>\n",
       "      <th>H3_PY</th>\n",
       "      <th>H3_PZ</th>\n",
       "      <th>H3_ProbK</th>\n",
       "      <th>H3_ProbPi</th>\n",
       "      <th>H3_Charge</th>\n",
       "      <th>H3_IPChi2</th>\n",
       "      <th>H3_isMuon</th>\n",
       "    </tr>\n",
       "  </thead>\n",
       "  <tbody>\n",
       "    <tr>\n",
       "      <th>0</th>\n",
       "      <td>0.0</td>\n",
       "      <td>1.0</td>\n",
       "      <td>3551.84</td>\n",
       "      <td>1636.96</td>\n",
       "      <td>23904.14</td>\n",
       "      <td>1.0</td>\n",
       "      <td>0.0</td>\n",
       "      <td>-1</td>\n",
       "      <td>1.0</td>\n",
       "      <td>0</td>\n",
       "      <td>...</td>\n",
       "      <td>1.0</td>\n",
       "      <td>0</td>\n",
       "      <td>36100.40</td>\n",
       "      <td>16546.83</td>\n",
       "      <td>295600.61</td>\n",
       "      <td>1.0</td>\n",
       "      <td>0.0</td>\n",
       "      <td>-1</td>\n",
       "      <td>1.0</td>\n",
       "      <td>0</td>\n",
       "    </tr>\n",
       "    <tr>\n",
       "      <th>1</th>\n",
       "      <td>0.0</td>\n",
       "      <td>1.0</td>\n",
       "      <td>-2525.98</td>\n",
       "      <td>-5284.05</td>\n",
       "      <td>35822.00</td>\n",
       "      <td>1.0</td>\n",
       "      <td>0.0</td>\n",
       "      <td>1</td>\n",
       "      <td>1.0</td>\n",
       "      <td>0</td>\n",
       "      <td>...</td>\n",
       "      <td>1.0</td>\n",
       "      <td>0</td>\n",
       "      <td>-8648.32</td>\n",
       "      <td>-16617.56</td>\n",
       "      <td>98535.13</td>\n",
       "      <td>1.0</td>\n",
       "      <td>0.0</td>\n",
       "      <td>-1</td>\n",
       "      <td>1.0</td>\n",
       "      <td>0</td>\n",
       "    </tr>\n",
       "    <tr>\n",
       "      <th>2</th>\n",
       "      <td>0.0</td>\n",
       "      <td>1.0</td>\n",
       "      <td>-700.67</td>\n",
       "      <td>1299.73</td>\n",
       "      <td>8127.76</td>\n",
       "      <td>1.0</td>\n",
       "      <td>0.0</td>\n",
       "      <td>-1</td>\n",
       "      <td>1.0</td>\n",
       "      <td>0</td>\n",
       "      <td>...</td>\n",
       "      <td>1.0</td>\n",
       "      <td>0</td>\n",
       "      <td>-13483.34</td>\n",
       "      <td>10860.77</td>\n",
       "      <td>79787.59</td>\n",
       "      <td>1.0</td>\n",
       "      <td>0.0</td>\n",
       "      <td>1</td>\n",
       "      <td>1.0</td>\n",
       "      <td>0</td>\n",
       "    </tr>\n",
       "    <tr>\n",
       "      <th>3</th>\n",
       "      <td>0.0</td>\n",
       "      <td>1.0</td>\n",
       "      <td>3364.63</td>\n",
       "      <td>1397.30</td>\n",
       "      <td>222815.29</td>\n",
       "      <td>1.0</td>\n",
       "      <td>0.0</td>\n",
       "      <td>1</td>\n",
       "      <td>1.0</td>\n",
       "      <td>0</td>\n",
       "      <td>...</td>\n",
       "      <td>1.0</td>\n",
       "      <td>0</td>\n",
       "      <td>1925.16</td>\n",
       "      <td>-551.12</td>\n",
       "      <td>40420.96</td>\n",
       "      <td>1.0</td>\n",
       "      <td>0.0</td>\n",
       "      <td>1</td>\n",
       "      <td>1.0</td>\n",
       "      <td>0</td>\n",
       "    </tr>\n",
       "    <tr>\n",
       "      <th>4</th>\n",
       "      <td>0.0</td>\n",
       "      <td>1.0</td>\n",
       "      <td>-581.66</td>\n",
       "      <td>-1305.24</td>\n",
       "      <td>22249.59</td>\n",
       "      <td>1.0</td>\n",
       "      <td>0.0</td>\n",
       "      <td>-1</td>\n",
       "      <td>1.0</td>\n",
       "      <td>0</td>\n",
       "      <td>...</td>\n",
       "      <td>1.0</td>\n",
       "      <td>0</td>\n",
       "      <td>-2820.04</td>\n",
       "      <td>-8305.43</td>\n",
       "      <td>250130.00</td>\n",
       "      <td>1.0</td>\n",
       "      <td>0.0</td>\n",
       "      <td>-1</td>\n",
       "      <td>1.0</td>\n",
       "      <td>0</td>\n",
       "    </tr>\n",
       "    <tr>\n",
       "      <th>5</th>\n",
       "      <td>0.0</td>\n",
       "      <td>1.0</td>\n",
       "      <td>112.84</td>\n",
       "      <td>-13297.98</td>\n",
       "      <td>51882.87</td>\n",
       "      <td>1.0</td>\n",
       "      <td>0.0</td>\n",
       "      <td>1</td>\n",
       "      <td>1.0</td>\n",
       "      <td>0</td>\n",
       "      <td>...</td>\n",
       "      <td>1.0</td>\n",
       "      <td>0</td>\n",
       "      <td>-440.95</td>\n",
       "      <td>-13699.42</td>\n",
       "      <td>71163.14</td>\n",
       "      <td>1.0</td>\n",
       "      <td>0.0</td>\n",
       "      <td>-1</td>\n",
       "      <td>1.0</td>\n",
       "      <td>0</td>\n",
       "    </tr>\n",
       "    <tr>\n",
       "      <th>6</th>\n",
       "      <td>0.0</td>\n",
       "      <td>1.0</td>\n",
       "      <td>5558.97</td>\n",
       "      <td>3913.52</td>\n",
       "      <td>56981.08</td>\n",
       "      <td>1.0</td>\n",
       "      <td>0.0</td>\n",
       "      <td>-1</td>\n",
       "      <td>1.0</td>\n",
       "      <td>0</td>\n",
       "      <td>...</td>\n",
       "      <td>1.0</td>\n",
       "      <td>0</td>\n",
       "      <td>3457.70</td>\n",
       "      <td>780.13</td>\n",
       "      <td>28716.94</td>\n",
       "      <td>1.0</td>\n",
       "      <td>0.0</td>\n",
       "      <td>1</td>\n",
       "      <td>1.0</td>\n",
       "      <td>0</td>\n",
       "    </tr>\n",
       "    <tr>\n",
       "      <th>7</th>\n",
       "      <td>0.0</td>\n",
       "      <td>1.0</td>\n",
       "      <td>-15208.03</td>\n",
       "      <td>-1783.93</td>\n",
       "      <td>265210.55</td>\n",
       "      <td>1.0</td>\n",
       "      <td>0.0</td>\n",
       "      <td>1</td>\n",
       "      <td>1.0</td>\n",
       "      <td>0</td>\n",
       "      <td>...</td>\n",
       "      <td>1.0</td>\n",
       "      <td>0</td>\n",
       "      <td>-4478.67</td>\n",
       "      <td>-164.39</td>\n",
       "      <td>71498.09</td>\n",
       "      <td>1.0</td>\n",
       "      <td>0.0</td>\n",
       "      <td>1</td>\n",
       "      <td>1.0</td>\n",
       "      <td>0</td>\n",
       "    </tr>\n",
       "    <tr>\n",
       "      <th>8</th>\n",
       "      <td>0.0</td>\n",
       "      <td>1.0</td>\n",
       "      <td>-109.04</td>\n",
       "      <td>8239.25</td>\n",
       "      <td>191486.94</td>\n",
       "      <td>1.0</td>\n",
       "      <td>0.0</td>\n",
       "      <td>-1</td>\n",
       "      <td>1.0</td>\n",
       "      <td>0</td>\n",
       "      <td>...</td>\n",
       "      <td>1.0</td>\n",
       "      <td>0</td>\n",
       "      <td>-2083.59</td>\n",
       "      <td>11359.35</td>\n",
       "      <td>192297.67</td>\n",
       "      <td>1.0</td>\n",
       "      <td>0.0</td>\n",
       "      <td>-1</td>\n",
       "      <td>1.0</td>\n",
       "      <td>0</td>\n",
       "    </tr>\n",
       "    <tr>\n",
       "      <th>9</th>\n",
       "      <td>0.0</td>\n",
       "      <td>1.0</td>\n",
       "      <td>15175.26</td>\n",
       "      <td>93142.09</td>\n",
       "      <td>379269.30</td>\n",
       "      <td>1.0</td>\n",
       "      <td>0.0</td>\n",
       "      <td>1</td>\n",
       "      <td>1.0</td>\n",
       "      <td>0</td>\n",
       "      <td>...</td>\n",
       "      <td>1.0</td>\n",
       "      <td>0</td>\n",
       "      <td>3295.84</td>\n",
       "      <td>24950.02</td>\n",
       "      <td>105990.48</td>\n",
       "      <td>1.0</td>\n",
       "      <td>0.0</td>\n",
       "      <td>-1</td>\n",
       "      <td>1.0</td>\n",
       "      <td>0</td>\n",
       "    </tr>\n",
       "  </tbody>\n",
       "</table>\n",
       "<p>10 rows × 26 columns</p>\n",
       "</div>"
      ],
      "text/plain": [
       "   B_FlightDistance  B_VertexChi2     H1_PX     H1_PY      H1_PZ  H1_ProbK  \\\n",
       "0               0.0           1.0   3551.84   1636.96   23904.14       1.0   \n",
       "1               0.0           1.0  -2525.98  -5284.05   35822.00       1.0   \n",
       "2               0.0           1.0   -700.67   1299.73    8127.76       1.0   \n",
       "3               0.0           1.0   3364.63   1397.30  222815.29       1.0   \n",
       "4               0.0           1.0   -581.66  -1305.24   22249.59       1.0   \n",
       "5               0.0           1.0    112.84 -13297.98   51882.87       1.0   \n",
       "6               0.0           1.0   5558.97   3913.52   56981.08       1.0   \n",
       "7               0.0           1.0 -15208.03  -1783.93  265210.55       1.0   \n",
       "8               0.0           1.0   -109.04   8239.25  191486.94       1.0   \n",
       "9               0.0           1.0  15175.26  93142.09  379269.30       1.0   \n",
       "\n",
       "   H1_ProbPi  H1_Charge  H1_IPChi2  H1_isMuon    ...      H2_IPChi2  \\\n",
       "0        0.0         -1        1.0          0    ...            1.0   \n",
       "1        0.0          1        1.0          0    ...            1.0   \n",
       "2        0.0         -1        1.0          0    ...            1.0   \n",
       "3        0.0          1        1.0          0    ...            1.0   \n",
       "4        0.0         -1        1.0          0    ...            1.0   \n",
       "5        0.0          1        1.0          0    ...            1.0   \n",
       "6        0.0         -1        1.0          0    ...            1.0   \n",
       "7        0.0          1        1.0          0    ...            1.0   \n",
       "8        0.0         -1        1.0          0    ...            1.0   \n",
       "9        0.0          1        1.0          0    ...            1.0   \n",
       "\n",
       "   H2_isMuon     H3_PX     H3_PY      H3_PZ  H3_ProbK  H3_ProbPi  H3_Charge  \\\n",
       "0          0  36100.40  16546.83  295600.61       1.0        0.0         -1   \n",
       "1          0  -8648.32 -16617.56   98535.13       1.0        0.0         -1   \n",
       "2          0 -13483.34  10860.77   79787.59       1.0        0.0          1   \n",
       "3          0   1925.16   -551.12   40420.96       1.0        0.0          1   \n",
       "4          0  -2820.04  -8305.43  250130.00       1.0        0.0         -1   \n",
       "5          0   -440.95 -13699.42   71163.14       1.0        0.0         -1   \n",
       "6          0   3457.70    780.13   28716.94       1.0        0.0          1   \n",
       "7          0  -4478.67   -164.39   71498.09       1.0        0.0          1   \n",
       "8          0  -2083.59  11359.35  192297.67       1.0        0.0         -1   \n",
       "9          0   3295.84  24950.02  105990.48       1.0        0.0         -1   \n",
       "\n",
       "   H3_IPChi2  H3_isMuon  \n",
       "0        1.0          0  \n",
       "1        1.0          0  \n",
       "2        1.0          0  \n",
       "3        1.0          0  \n",
       "4        1.0          0  \n",
       "5        1.0          0  \n",
       "6        1.0          0  \n",
       "7        1.0          0  \n",
       "8        1.0          0  \n",
       "9        1.0          0  \n",
       "\n",
       "[10 rows x 26 columns]"
      ]
     },
     "execution_count": 4,
     "metadata": {},
     "output_type": "execute_result"
    }
   ],
   "source": [
    "simulation_data.limit(10).toPandas()"
   ]
  },
  {
   "cell_type": "code",
   "execution_count": 8,
   "metadata": {},
   "outputs": [
    {
     "data": {
      "text/plain": [
       "Text(0,0.5,'Count')"
      ]
     },
     "execution_count": 8,
     "metadata": {},
     "output_type": "execute_result"
    },
    {
     "data": {
      "image/png": "[encoded data removed]",
      "text/plain": [
       "<Figure size 432x288 with 1 Axes>"
      ]
     },
     "metadata": {
      "needs_background": "light"
     },
     "output_type": "display_data"
    }
   ],
   "source": [
    "h1px_data = simulation_data.select('H1_PX').toPandas()\n",
    "h1px_data.plot.hist(bins=31, range=[h1px_data.min().iloc[0], h1px_data.max().iloc[0]], \\\n",
    "                    title=\"Histogram - H1_PX MeV/c v/s Count\")\n",
    "xlabel(\"H1_PX (MeV/c)\")\n",
    "ylabel(\"Count\")"
   ]
  },
  {
   "cell_type": "code",
   "execution_count": 43,
   "metadata": {},
   "outputs": [
    {
     "data": {
      "text/plain": [
       "H1_PX    178396.84\n",
       "dtype: float64"
      ]
     },
     "execution_count": 43,
     "metadata": {},
     "output_type": "execute_result"
    }
   ],
   "source": [
    "h1px_data.max()"
   ]
  },
  {
   "cell_type": "code",
   "execution_count": 44,
   "metadata": {},
   "outputs": [
    {
     "data": {
      "text/plain": [
       "H1_PX   -179037.39\n",
       "dtype: float64"
      ]
     },
     "execution_count": 44,
     "metadata": {},
     "output_type": "execute_result"
    }
   ],
   "source": [
    "h1px_data.min()"
   ]
  },
  {
   "cell_type": "code",
   "execution_count": 18,
   "metadata": {},
   "outputs": [
    {
     "data": {
      "text/plain": [
       "Text(0,0.5,'Count')"
      ]
     },
     "execution_count": 18,
     "metadata": {},
     "output_type": "execute_result"
    },
    {
     "data": {
      "image/png": "[encoded data removed]",
      "text/plain": [
       "<Figure size 432x288 with 1 Axes>"
      ]
     },
     "metadata": {
      "needs_background": "light"
     },
     "output_type": "display_data"
    }
   ],
   "source": [
    "H1_PX_SQL = sql(\"select round(H1_PX/10000,0)*10000 as bin, count(1) as count \\\n",
    "                 from sim_data \\\n",
    "                 group by round(H1_PX/10000,0) order by 1\")\n",
    "H1_PX_Pandas = H1_PX_SQL.toPandas()\n",
    "H1_PX_Pandas.head()\n",
    "H1_PX_Pandas.plot.bar(x='bin',y='count',title=\"Histogram - H1_PX MeV/c v/s Count\")\n",
    "xlabel(\"H1_PX (MeV/c)\")\n",
    "ylabel(\"Count\")"
   ]
  },
  {
   "cell_type": "code",
   "execution_count": 16,
   "metadata": {},
   "outputs": [
    {
     "name": "stdout",
     "output_type": "stream",
     "text": [
      "+--------+--------+---------+---------+\n",
      "|   H1_PX|   H1_PY|    H1_PZ|   H1_MAG|\n",
      "+--------+--------+---------+---------+\n",
      "| 3551.84| 1636.96| 23904.14| 24221.96|\n",
      "|-2525.98|-5284.05|  35822.0| 36297.62|\n",
      "| -700.67| 1299.73|  8127.76|  8260.79|\n",
      "| 3364.63|  1397.3|222815.29|222845.07|\n",
      "| -581.66|-1305.24| 22249.59| 22295.43|\n",
      "+--------+--------+---------+---------+\n",
      "only showing top 5 rows\n",
      "\n"
     ]
    }
   ],
   "source": [
    "p_mag = sql(\"\"\"select H1_PX, H1_PY, H1_PZ, round(sqrt(H1_PX*H1_PX+H1_PY*H1_PY+H1_PZ*H1_PZ),2) as H1_MAG\n",
    "               from sim_data \n",
    "               where H1_ProbK = 1.0\"\"\")\n",
    "p_mag.show(5)"
   ]
  },
  {
   "cell_type": "code",
   "execution_count": 17,
   "metadata": {},
   "outputs": [
    {
     "data": {
      "text/plain": [
       "Text(0,0.5,'Count')"
      ]
     },
     "execution_count": 17,
     "metadata": {},
     "output_type": "execute_result"
    },
    {
     "data": {
      "image/png": "[encoded data removed]",
      "text/plain": [
       "<Figure size 432x288 with 1 Axes>"
      ]
     },
     "metadata": {
      "needs_background": "light"
     },
     "output_type": "display_data"
    }
   ],
   "source": [
    "p_tot = p_mag.select('H1_MAG').toPandas()\n",
    "p_tot.plot.hist(bins=30)\n",
    "xlabel(\"H1_MAG - MeV/c\")\n",
    "ylabel(\"Count\")"
   ]
  },
  {
   "cell_type": "code",
   "execution_count": 10,
   "metadata": {},
   "outputs": [
    {
     "data": {
      "text/plain": [
       "Text(0,0.5,'Count')"
      ]
     },
     "execution_count": 10,
     "metadata": {},
     "output_type": "execute_result"
    },
    {
     "data": {
      "image/png": "[encoded data removed]",
      "text/plain": [
       "<Figure size 432x288 with 1 Axes>"
      ]
     },
     "metadata": {
      "needs_background": "light"
     },
     "output_type": "display_data"
    }
   ],
   "source": [
    "kcharged_mass = 493.677 # Invariant Mass of Kaon \n",
    "H1_energy = sql(\"\"\"\n",
    "                select round(sqrt({0} + H1_PX*H1_PX + H1_PY*H1_PY + H1_PZ*H1_PZ),2) as H1_Energy\n",
    "                from sim_data\n",
    "                where H1_ProbK = 1.0\n",
    "                \"\"\".format(kcharged_mass*kcharged_mass))\n",
    "H1_energy_Pandas = H1_energy.toPandas()\n",
    "H1_energy_Pandas.head()\n",
    "\n",
    "H1_energy_Pandas.plot.hist(bins=30)\n",
    "xlabel(\"Hadron 1 Kaon Energy - MeV\")\n",
    "ylabel(\"Count\")"
   ]
  },
  {
   "cell_type": "code",
   "execution_count": 11,
   "metadata": {},
   "outputs": [
    {
     "data": {
      "text/plain": [
       "Text(0,0.5,'Count')"
      ]
     },
     "execution_count": 11,
     "metadata": {},
     "output_type": "execute_result"
    },
    {
     "data": {
      "image/png": "[encoded data removed]",
      "text/plain": [
       "<Figure size 432x288 with 1 Axes>"
      ]
     },
     "metadata": {
      "needs_background": "light"
     },
     "output_type": "display_data"
    },
    {
     "data": {
      "image/png": "[encoded data removed]",
      "text/plain": [
       "<Figure size 432x288 with 1 Axes>"
      ]
     },
     "metadata": {
      "needs_background": "light"
     },
     "output_type": "display_data"
    }
   ],
   "source": [
    "H2_energy = sql(\"\"\"\n",
    "                select round(sqrt({0} + H2_PX*H2_PX + H2_PY*H2_PY + H2_PZ*H2_PZ),2) as H2_Energy\n",
    "                from sim_data\n",
    "                where H2_ProbK = 1.0\n",
    "                \"\"\".format(kcharged_mass*kcharged_mass))\n",
    "H2_energy_Pandas = H2_energy.toPandas()\n",
    "H2_energy_Pandas.head()\n",
    "\n",
    "H2_energy_Pandas.plot.hist(bins=30)\n",
    "xlabel(\"Hadron 2 Kaon Energy - MeV\")\n",
    "ylabel(\"Count\")\n",
    "\n",
    "H3_energy = sql(\"\"\"\n",
    "                select round(sqrt({0} + H3_PX*H3_PX + H3_PY*H3_PY + H3_PZ*H3_PZ),2) as H3_Energy\n",
    "                from sim_data\n",
    "                where H3_ProbK = 1.0\n",
    "                \"\"\".format(kcharged_mass*kcharged_mass))\n",
    "H3_energy_Pandas = H3_energy.toPandas()\n",
    "H3_energy_Pandas.head()\n",
    "\n",
    "H3_energy_Pandas.plot.hist(bins=30)\n",
    "xlabel(\"Hadron 3 Kaon Energy - MeV\")\n",
    "ylabel(\"Count\")"
   ]
  },
  {
   "cell_type": "code",
   "execution_count": 12,
   "metadata": {},
   "outputs": [
    {
     "name": "stdout",
     "output_type": "stream",
     "text": [
      "+------------------+------------------+------------------+------------------+\n",
      "|        Tot_Energy|            PX_Tot|            PY_Tot|            PZ_Tot|\n",
      "+------------------+------------------+------------------+------------------+\n",
      "| 657116.5757740112| 81159.39000000001|34164.380000000005|         651168.39|\n",
      "| 731372.0511105937|-54357.21000000001|        -118454.64| 719646.4400000001|\n",
      "|106495.84886114487|          -15596.0|15711.460000000001|         104035.62|\n",
      "| 425265.3012500729|           7482.21|           2216.05|425161.00000000006|\n",
      "|  338761.408158081|          -2248.65|         -11608.84|         338513.81|\n",
      "+------------------+------------------+------------------+------------------+\n",
      "only showing top 5 rows\n",
      "\n"
     ]
    }
   ],
   "source": [
    "b_meson_4momentum = sum_kaons_energy = sql(\"\"\"\n",
    "  select \n",
    "    sqrt({0} + H1_PX*H1_PX + H1_PY*H1_PY + H1_PZ*H1_PZ)  +\n",
    "    sqrt({0} + H2_PX*H2_PX + H2_PY*H2_PY + H2_PZ*H2_PZ)  +\n",
    "    sqrt({0} + H3_PX*H3_PX + H3_PY*H3_PY + H3_PZ*H3_PZ)  as Tot_Energy,\n",
    "    H1_PX + H2_PX + H3_PX as PX_Tot,\n",
    "    H1_PY + H2_PY + H3_PY as PY_Tot,\n",
    "    H1_PZ + H2_PZ + H3_PZ as PZ_Tot\n",
    "  from sim_data\n",
    "  where H1_ProbK = 1.0 and H2_ProbK = 1.0 and H3_ProbK = 1.0\"\"\".format(kcharged_mass*kcharged_mass))\n",
    "\n",
    "b_meson_4momentum.show(5)"
   ]
  },
  {
   "cell_type": "code",
   "execution_count": 13,
   "metadata": {},
   "outputs": [
    {
     "name": "stdout",
     "output_type": "stream",
     "text": [
      "+------------------+\n",
      "|    invariant_mass|\n",
      "+------------------+\n",
      "| 5279.259021223659|\n",
      "|5279.2541641354055|\n",
      "| 5279.242799854169|\n",
      "| 5273.156761236732|\n",
      "| 5279.252178269909|\n",
      "+------------------+\n",
      "only showing top 5 rows\n",
      "\n"
     ]
    }
   ],
   "source": [
    "b_meson_invariant_mass = b_meson_4momentum.selectExpr(\"\"\"\n",
    "   sqrt(Tot_Energy* Tot_Energy - (PX_Tot*PX_Tot + PY_Tot*PY_Tot + PZ_Tot*PZ_Tot) ) as invariant_mass\"\"\")\n",
    "   \n",
    "b_meson_invariant_mass.show(5)"
   ]
  },
  {
   "cell_type": "code",
   "execution_count": 14,
   "metadata": {},
   "outputs": [
    {
     "data": {
      "image/png": "[encoded data removed]",
      "text/plain": [
       "<Figure size 432x288 with 1 Axes>"
      ]
     },
     "metadata": {
      "needs_background": "light"
     },
     "output_type": "display_data"
    }
   ],
   "source": [
    "b_meson_invariant_mass.toPandas().plot.hist(bins=101, range=[4000, 6000],\n",
    "title=\"Histogram - distribution of B meson invariant mass, simulation data\") \n",
    "xlabel('b_meson_invariant_mass (MeV)')\n",
    "ylabel('Count');"
   ]
  }
 ],
 "metadata": {
  "kernelspec": {
   "display_name": "Python 3",
   "language": "python",
   "name": "python3"
  },
  "language_info": {
   "codemirror_mode": {
    "name": "ipython",
    "version": 3
   },
   "file_extension": ".py",
   "mimetype": "text/x-python",
   "name": "python",
   "nbconvert_exporter": "python",
   "pygments_lexer": "ipython3",
   "version": "3.6.1"
  }
 },
 "nbformat": 4,
 "nbformat_minor": 2
}
