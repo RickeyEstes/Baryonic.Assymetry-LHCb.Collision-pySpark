{
 "cells": [
  {
   "cell_type": "markdown",
   "metadata": {},
   "source": [
    "## <div style=\"text-align: center\"> Topic: Measuring Baryon Asymmetries using LHCb Collision data </div>\n",
    "\n",
    "### What is the importance of the (Baryon Asymmetry) Matter-Antimatter Asymmetry problem?\n",
    "\n",
    "In the very beginning of the Universe, matter and anti-matter were to be found in equal proportions of each other. When particles and its anti-particles come together, they annihilate and leave behind nothing but pure energy. But, this means that matter as we know it shouldn't have existed in the first place. Study of why our Universe does not follow the ideal path where matter and antimatter pop in and out of existense, would enable scientists understand the reason behind matter as we know it.  \n",
    "\n",
    "This imbalance in Baryonic Matter (Matter) and Anit-Baryonic Matter (Anti-matter) in the observable Universe is known as the Baryon Asymmetry Problem."
   ]
  },
  {
   "cell_type": "code",
   "execution_count": 46,
   "metadata": {},
   "outputs": [
    {
     "name": "stdout",
     "output_type": "stream",
     "text": [
      "Populating the interactive namespace from numpy and matplotlib\n"
     ]
    }
   ],
   "source": [
    "from pyspark.sql import SparkSession\n",
    "from __future__ import print_function\n",
    "from __future__ import division\n",
    "\n",
    "%pylab inline\n",
    "pylab.rcParams['figure.figsize'] = (13.0, 8.0)\n",
    "\n",
    "spark = SparkSession.builder \\\n",
    "        .appName(\"LHCb Open Data with Spark\") \\\n",
    "        .config(\"spark.jars.packages\", \"org.diana-hep:spark-root_2.11:0.1.11\") \\\n",
    "        .getOrCreate()\n",
    "\n",
    "sql = spark.sql"
   ]
  },
  {
   "cell_type": "markdown",
   "metadata": {},
   "source": [
    "## Datasets\n",
    "\n",
    "1. Simulation Data: http://opendata.cern.ch/eos/opendata/lhcb/AntimatterMatters2017/data/PhaseSpaceSimulation.root\n",
    "2. Measurement Data (Baryon 2-Up): http://opendata.cern.ch/eos/opendata/lhcb/AntimatterMatters2017/data/B2HHH_MagnetDown.root\n",
    "3. Measurement Data (Baryon 2-Down): http://opendata.cern.ch/eos/opendata/lhcb/AntimatterMatters2017/data/B2HHH_MagnetUp.root"
   ]
  },
  {
   "cell_type": "markdown",
   "metadata": {},
   "source": [
    "### What are ROOT files?\n",
    "\n",
    "Datasets are compressed into different formats to compliment analyses by reducing disk space. Even though Binary Compressions have been very effective, it has been difficult to work with due to poor machine-independence characteristics. Such issue are handled by the ROOT framework for generating .root files  "
   ]
  },
  {
   "cell_type": "code",
   "execution_count": 47,
   "metadata": {},
   "outputs": [
    {
     "data": {
      "text/plain": [
       "50000"
      ]
     },
     "execution_count": 47,
     "metadata": {},
     "output_type": "execute_result"
    }
   ],
   "source": [
    "# The data is located in the local direcotry : /Users/sumitsaha/GHR/spark_project/\n",
    "\n",
    "data_directory = \"/Users/sumitsaha/GHR/spark_project/\"\n",
    "\n",
    "# PhaseSpaceSimulation.root contains the ideal simulated dataset\n",
    "# This can be used to calculate the ideal Invariant mass of B-meson\n",
    "# The dataset is being read using the \"org.dianahep.sparkroot\" engine\n",
    "\n",
    "simulation_data = spark.read.format(\"org.dianahep.sparkroot\").load(data_directory + \"PhaseSpaceSimulation.root\")\n",
    "\n",
    "# We create a lazy version of the dataframe by creating a view for the data\n",
    "# The view is only available when .count() is executed\n",
    "\n",
    "simulation_data.createOrReplaceTempView(\"sim_data\") \n",
    "\n",
    "# We try to cache the data i.e. make it persistent for the rest of the Spark Context\n",
    "\n",
    "simulation_data.cache()\n",
    "simulation_data.count()"
   ]
  },
  {
   "cell_type": "code",
   "execution_count": 48,
   "metadata": {},
   "outputs": [
    {
     "name": "stdout",
     "output_type": "stream",
     "text": [
      "root\n",
      " |-- B_FlightDistance: double (nullable = true)\n",
      " |-- B_VertexChi2: double (nullable = true)\n",
      " |-- H1_PX: double (nullable = true)\n",
      " |-- H1_PY: double (nullable = true)\n",
      " |-- H1_PZ: double (nullable = true)\n",
      " |-- H1_ProbK: double (nullable = true)\n",
      " |-- H1_ProbPi: double (nullable = true)\n",
      " |-- H1_Charge: integer (nullable = true)\n",
      " |-- H1_IPChi2: double (nullable = true)\n",
      " |-- H1_isMuon: integer (nullable = true)\n",
      " |-- H2_PX: double (nullable = true)\n",
      " |-- H2_PY: double (nullable = true)\n",
      " |-- H2_PZ: double (nullable = true)\n",
      " |-- H2_ProbK: double (nullable = true)\n",
      " |-- H2_ProbPi: double (nullable = true)\n",
      " |-- H2_Charge: integer (nullable = true)\n",
      " |-- H2_IPChi2: double (nullable = true)\n",
      " |-- H2_isMuon: integer (nullable = true)\n",
      " |-- H3_PX: double (nullable = true)\n",
      " |-- H3_PY: double (nullable = true)\n",
      " |-- H3_PZ: double (nullable = true)\n",
      " |-- H3_ProbK: double (nullable = true)\n",
      " |-- H3_ProbPi: double (nullable = true)\n",
      " |-- H3_Charge: integer (nullable = true)\n",
      " |-- H3_IPChi2: double (nullable = true)\n",
      " |-- H3_isMuon: integer (nullable = true)\n",
      "\n"
     ]
    }
   ],
   "source": [
    "# The PhaseSpaceSimulation dataset consists of the following features\n",
    "\n",
    "simulation_data.printSchema()"
   ]
  },
  {
   "cell_type": "code",
   "execution_count": 49,
   "metadata": {},
   "outputs": [
    {
     "data": {
      "text/html": [
       "<div>\n",
       "<style scoped>\n",
       "    .dataframe tbody tr th:only-of-type {\n",
       "        vertical-align: middle;\n",
       "    }\n",
       "\n",
       "    .dataframe tbody tr th {\n",
       "        vertical-align: top;\n",
       "    }\n",
       "\n",
       "    .dataframe thead th {\n",
       "        text-align: right;\n",
       "    }\n",
       "</style>\n",
       "<table border=\"1\" class=\"dataframe\">\n",
       "  <thead>\n",
       "    <tr style=\"text-align: right;\">\n",
       "      <th></th>\n",
       "      <th>B_FlightDistance</th>\n",
       "      <th>B_VertexChi2</th>\n",
       "      <th>H1_PX</th>\n",
       "      <th>H1_PY</th>\n",
       "      <th>H1_PZ</th>\n",
       "      <th>H1_ProbK</th>\n",
       "      <th>H1_ProbPi</th>\n",
       "      <th>H1_Charge</th>\n",
       "      <th>H1_IPChi2</th>\n",
       "      <th>H1_isMuon</th>\n",
       "      <th>...</th>\n",
       "      <th>H2_IPChi2</th>\n",
       "      <th>H2_isMuon</th>\n",
       "      <th>H3_PX</th>\n",
       "      <th>H3_PY</th>\n",
       "      <th>H3_PZ</th>\n",
       "      <th>H3_ProbK</th>\n",
       "      <th>H3_ProbPi</th>\n",
       "      <th>H3_Charge</th>\n",
       "      <th>H3_IPChi2</th>\n",
       "      <th>H3_isMuon</th>\n",
       "    </tr>\n",
       "  </thead>\n",
       "  <tbody>\n",
       "    <tr>\n",
       "      <th>0</th>\n",
       "      <td>0.0</td>\n",
       "      <td>1.0</td>\n",
       "      <td>3551.84</td>\n",
       "      <td>1636.96</td>\n",
       "      <td>23904.14</td>\n",
       "      <td>1.0</td>\n",
       "      <td>0.0</td>\n",
       "      <td>-1</td>\n",
       "      <td>1.0</td>\n",
       "      <td>0</td>\n",
       "      <td>...</td>\n",
       "      <td>1.0</td>\n",
       "      <td>0</td>\n",
       "      <td>36100.40</td>\n",
       "      <td>16546.83</td>\n",
       "      <td>295600.61</td>\n",
       "      <td>1.0</td>\n",
       "      <td>0.0</td>\n",
       "      <td>-1</td>\n",
       "      <td>1.0</td>\n",
       "      <td>0</td>\n",
       "    </tr>\n",
       "    <tr>\n",
       "      <th>1</th>\n",
       "      <td>0.0</td>\n",
       "      <td>1.0</td>\n",
       "      <td>-2525.98</td>\n",
       "      <td>-5284.05</td>\n",
       "      <td>35822.00</td>\n",
       "      <td>1.0</td>\n",
       "      <td>0.0</td>\n",
       "      <td>1</td>\n",
       "      <td>1.0</td>\n",
       "      <td>0</td>\n",
       "      <td>...</td>\n",
       "      <td>1.0</td>\n",
       "      <td>0</td>\n",
       "      <td>-8648.32</td>\n",
       "      <td>-16617.56</td>\n",
       "      <td>98535.13</td>\n",
       "      <td>1.0</td>\n",
       "      <td>0.0</td>\n",
       "      <td>-1</td>\n",
       "      <td>1.0</td>\n",
       "      <td>0</td>\n",
       "    </tr>\n",
       "    <tr>\n",
       "      <th>2</th>\n",
       "      <td>0.0</td>\n",
       "      <td>1.0</td>\n",
       "      <td>-700.67</td>\n",
       "      <td>1299.73</td>\n",
       "      <td>8127.76</td>\n",
       "      <td>1.0</td>\n",
       "      <td>0.0</td>\n",
       "      <td>-1</td>\n",
       "      <td>1.0</td>\n",
       "      <td>0</td>\n",
       "      <td>...</td>\n",
       "      <td>1.0</td>\n",
       "      <td>0</td>\n",
       "      <td>-13483.34</td>\n",
       "      <td>10860.77</td>\n",
       "      <td>79787.59</td>\n",
       "      <td>1.0</td>\n",
       "      <td>0.0</td>\n",
       "      <td>1</td>\n",
       "      <td>1.0</td>\n",
       "      <td>0</td>\n",
       "    </tr>\n",
       "    <tr>\n",
       "      <th>3</th>\n",
       "      <td>0.0</td>\n",
       "      <td>1.0</td>\n",
       "      <td>3364.63</td>\n",
       "      <td>1397.30</td>\n",
       "      <td>222815.29</td>\n",
       "      <td>1.0</td>\n",
       "      <td>0.0</td>\n",
       "      <td>1</td>\n",
       "      <td>1.0</td>\n",
       "      <td>0</td>\n",
       "      <td>...</td>\n",
       "      <td>1.0</td>\n",
       "      <td>0</td>\n",
       "      <td>1925.16</td>\n",
       "      <td>-551.12</td>\n",
       "      <td>40420.96</td>\n",
       "      <td>1.0</td>\n",
       "      <td>0.0</td>\n",
       "      <td>1</td>\n",
       "      <td>1.0</td>\n",
       "      <td>0</td>\n",
       "    </tr>\n",
       "    <tr>\n",
       "      <th>4</th>\n",
       "      <td>0.0</td>\n",
       "      <td>1.0</td>\n",
       "      <td>-581.66</td>\n",
       "      <td>-1305.24</td>\n",
       "      <td>22249.59</td>\n",
       "      <td>1.0</td>\n",
       "      <td>0.0</td>\n",
       "      <td>-1</td>\n",
       "      <td>1.0</td>\n",
       "      <td>0</td>\n",
       "      <td>...</td>\n",
       "      <td>1.0</td>\n",
       "      <td>0</td>\n",
       "      <td>-2820.04</td>\n",
       "      <td>-8305.43</td>\n",
       "      <td>250130.00</td>\n",
       "      <td>1.0</td>\n",
       "      <td>0.0</td>\n",
       "      <td>-1</td>\n",
       "      <td>1.0</td>\n",
       "      <td>0</td>\n",
       "    </tr>\n",
       "    <tr>\n",
       "      <th>5</th>\n",
       "      <td>0.0</td>\n",
       "      <td>1.0</td>\n",
       "      <td>112.84</td>\n",
       "      <td>-13297.98</td>\n",
       "      <td>51882.87</td>\n",
       "      <td>1.0</td>\n",
       "      <td>0.0</td>\n",
       "      <td>1</td>\n",
       "      <td>1.0</td>\n",
       "      <td>0</td>\n",
       "      <td>...</td>\n",
       "      <td>1.0</td>\n",
       "      <td>0</td>\n",
       "      <td>-440.95</td>\n",
       "      <td>-13699.42</td>\n",
       "      <td>71163.14</td>\n",
       "      <td>1.0</td>\n",
       "      <td>0.0</td>\n",
       "      <td>-1</td>\n",
       "      <td>1.0</td>\n",
       "      <td>0</td>\n",
       "    </tr>\n",
       "    <tr>\n",
       "      <th>6</th>\n",
       "      <td>0.0</td>\n",
       "      <td>1.0</td>\n",
       "      <td>5558.97</td>\n",
       "      <td>3913.52</td>\n",
       "      <td>56981.08</td>\n",
       "      <td>1.0</td>\n",
       "      <td>0.0</td>\n",
       "      <td>-1</td>\n",
       "      <td>1.0</td>\n",
       "      <td>0</td>\n",
       "      <td>...</td>\n",
       "      <td>1.0</td>\n",
       "      <td>0</td>\n",
       "      <td>3457.70</td>\n",
       "      <td>780.13</td>\n",
       "      <td>28716.94</td>\n",
       "      <td>1.0</td>\n",
       "      <td>0.0</td>\n",
       "      <td>1</td>\n",
       "      <td>1.0</td>\n",
       "      <td>0</td>\n",
       "    </tr>\n",
       "    <tr>\n",
       "      <th>7</th>\n",
       "      <td>0.0</td>\n",
       "      <td>1.0</td>\n",
       "      <td>-15208.03</td>\n",
       "      <td>-1783.93</td>\n",
       "      <td>265210.55</td>\n",
       "      <td>1.0</td>\n",
       "      <td>0.0</td>\n",
       "      <td>1</td>\n",
       "      <td>1.0</td>\n",
       "      <td>0</td>\n",
       "      <td>...</td>\n",
       "      <td>1.0</td>\n",
       "      <td>0</td>\n",
       "      <td>-4478.67</td>\n",
       "      <td>-164.39</td>\n",
       "      <td>71498.09</td>\n",
       "      <td>1.0</td>\n",
       "      <td>0.0</td>\n",
       "      <td>1</td>\n",
       "      <td>1.0</td>\n",
       "      <td>0</td>\n",
       "    </tr>\n",
       "    <tr>\n",
       "      <th>8</th>\n",
       "      <td>0.0</td>\n",
       "      <td>1.0</td>\n",
       "      <td>-109.04</td>\n",
       "      <td>8239.25</td>\n",
       "      <td>191486.94</td>\n",
       "      <td>1.0</td>\n",
       "      <td>0.0</td>\n",
       "      <td>-1</td>\n",
       "      <td>1.0</td>\n",
       "      <td>0</td>\n",
       "      <td>...</td>\n",
       "      <td>1.0</td>\n",
       "      <td>0</td>\n",
       "      <td>-2083.59</td>\n",
       "      <td>11359.35</td>\n",
       "      <td>192297.67</td>\n",
       "      <td>1.0</td>\n",
       "      <td>0.0</td>\n",
       "      <td>-1</td>\n",
       "      <td>1.0</td>\n",
       "      <td>0</td>\n",
       "    </tr>\n",
       "    <tr>\n",
       "      <th>9</th>\n",
       "      <td>0.0</td>\n",
       "      <td>1.0</td>\n",
       "      <td>15175.26</td>\n",
       "      <td>93142.09</td>\n",
       "      <td>379269.30</td>\n",
       "      <td>1.0</td>\n",
       "      <td>0.0</td>\n",
       "      <td>1</td>\n",
       "      <td>1.0</td>\n",
       "      <td>0</td>\n",
       "      <td>...</td>\n",
       "      <td>1.0</td>\n",
       "      <td>0</td>\n",
       "      <td>3295.84</td>\n",
       "      <td>24950.02</td>\n",
       "      <td>105990.48</td>\n",
       "      <td>1.0</td>\n",
       "      <td>0.0</td>\n",
       "      <td>-1</td>\n",
       "      <td>1.0</td>\n",
       "      <td>0</td>\n",
       "    </tr>\n",
       "  </tbody>\n",
       "</table>\n",
       "<p>10 rows × 26 columns</p>\n",
       "</div>"
      ],
      "text/plain": [
       "   B_FlightDistance  B_VertexChi2     H1_PX     H1_PY      H1_PZ  H1_ProbK  \\\n",
       "0               0.0           1.0   3551.84   1636.96   23904.14       1.0   \n",
       "1               0.0           1.0  -2525.98  -5284.05   35822.00       1.0   \n",
       "2               0.0           1.0   -700.67   1299.73    8127.76       1.0   \n",
       "3               0.0           1.0   3364.63   1397.30  222815.29       1.0   \n",
       "4               0.0           1.0   -581.66  -1305.24   22249.59       1.0   \n",
       "5               0.0           1.0    112.84 -13297.98   51882.87       1.0   \n",
       "6               0.0           1.0   5558.97   3913.52   56981.08       1.0   \n",
       "7               0.0           1.0 -15208.03  -1783.93  265210.55       1.0   \n",
       "8               0.0           1.0   -109.04   8239.25  191486.94       1.0   \n",
       "9               0.0           1.0  15175.26  93142.09  379269.30       1.0   \n",
       "\n",
       "   H1_ProbPi  H1_Charge  H1_IPChi2  H1_isMuon    ...      H2_IPChi2  \\\n",
       "0        0.0         -1        1.0          0    ...            1.0   \n",
       "1        0.0          1        1.0          0    ...            1.0   \n",
       "2        0.0         -1        1.0          0    ...            1.0   \n",
       "3        0.0          1        1.0          0    ...            1.0   \n",
       "4        0.0         -1        1.0          0    ...            1.0   \n",
       "5        0.0          1        1.0          0    ...            1.0   \n",
       "6        0.0         -1        1.0          0    ...            1.0   \n",
       "7        0.0          1        1.0          0    ...            1.0   \n",
       "8        0.0         -1        1.0          0    ...            1.0   \n",
       "9        0.0          1        1.0          0    ...            1.0   \n",
       "\n",
       "   H2_isMuon     H3_PX     H3_PY      H3_PZ  H3_ProbK  H3_ProbPi  H3_Charge  \\\n",
       "0          0  36100.40  16546.83  295600.61       1.0        0.0         -1   \n",
       "1          0  -8648.32 -16617.56   98535.13       1.0        0.0         -1   \n",
       "2          0 -13483.34  10860.77   79787.59       1.0        0.0          1   \n",
       "3          0   1925.16   -551.12   40420.96       1.0        0.0          1   \n",
       "4          0  -2820.04  -8305.43  250130.00       1.0        0.0         -1   \n",
       "5          0   -440.95 -13699.42   71163.14       1.0        0.0         -1   \n",
       "6          0   3457.70    780.13   28716.94       1.0        0.0          1   \n",
       "7          0  -4478.67   -164.39   71498.09       1.0        0.0          1   \n",
       "8          0  -2083.59  11359.35  192297.67       1.0        0.0         -1   \n",
       "9          0   3295.84  24950.02  105990.48       1.0        0.0         -1   \n",
       "\n",
       "   H3_IPChi2  H3_isMuon  \n",
       "0        1.0          0  \n",
       "1        1.0          0  \n",
       "2        1.0          0  \n",
       "3        1.0          0  \n",
       "4        1.0          0  \n",
       "5        1.0          0  \n",
       "6        1.0          0  \n",
       "7        1.0          0  \n",
       "8        1.0          0  \n",
       "9        1.0          0  \n",
       "\n",
       "[10 rows x 26 columns]"
      ]
     },
     "execution_count": 49,
     "metadata": {},
     "output_type": "execute_result"
    }
   ],
   "source": [
    "# We try to view the \".root\" files in a structured format\n",
    "\n",
    "simulation_data.limit(10).toPandas()"
   ]
  },
  {
   "cell_type": "code",
   "execution_count": 50,
   "metadata": {},
   "outputs": [
    {
     "data": {
      "text/plain": [
       "Text(0,0.5,'Count')"
      ]
     },
     "execution_count": 50,
     "metadata": {},
     "output_type": "execute_result"
    },
    {
     "data": {
      "image/png": "[encoded data removed]",
      "text/plain": [
       "<Figure size 936x576 with 1 Axes>"
      ]
     },
     "metadata": {
      "needs_background": "light"
     },
     "output_type": "display_data"
    }
   ],
   "source": [
    "# We try to visualise the frequency of occurrance of Hadrons which have Zero momentum\n",
    "# This will be later used to calculate the Invariant mass of B-meson\n",
    "\n",
    "h1px_data = simulation_data.select('H1_PX').toPandas()\n",
    "\n",
    "# The bin-size of the plot has range [-179037.39, 178396.84]\n",
    "\n",
    "h1px_data.plot.hist(bins=31, range=[h1px_data.min().iloc[0], h1px_data.max().iloc[0]], \\\n",
    "                    title=\"Histogram - H1_PX MeV/c v/s Count\")\n",
    "xlabel(\"H1_PX (MeV/c)\")\n",
    "ylabel(\"Count\")"
   ]
  },
  {
   "cell_type": "code",
   "execution_count": 51,
   "metadata": {},
   "outputs": [
    {
     "data": {
      "text/plain": [
       "H1_PX    178396.84\n",
       "dtype: float64"
      ]
     },
     "execution_count": 51,
     "metadata": {},
     "output_type": "execute_result"
    }
   ],
   "source": [
    "h1px_data.max()"
   ]
  },
  {
   "cell_type": "code",
   "execution_count": 52,
   "metadata": {},
   "outputs": [
    {
     "data": {
      "text/plain": [
       "H1_PX   -179037.39\n",
       "dtype: float64"
      ]
     },
     "execution_count": 52,
     "metadata": {},
     "output_type": "execute_result"
    }
   ],
   "source": [
    "h1px_data.min()"
   ]
  },
  {
   "cell_type": "code",
   "execution_count": 58,
   "metadata": {},
   "outputs": [
    {
     "name": "stdout",
     "output_type": "stream",
     "text": [
      "+---------+-----+\n",
      "|      bin|count|\n",
      "+---------+-----+\n",
      "|-180000.0|    1|\n",
      "|-170000.0|    5|\n",
      "|-160000.0|    1|\n",
      "|-150000.0|    9|\n",
      "|-140000.0|   11|\n",
      "|-130000.0|   19|\n",
      "|-120000.0|   26|\n",
      "|-110000.0|   44|\n",
      "|-100000.0|   60|\n",
      "| -90000.0|  107|\n",
      "+---------+-----+\n",
      "only showing top 10 rows\n",
      "\n"
     ]
    }
   ],
   "source": [
    "\"\"\"\n",
    "In the following snippet, we try to aggregate the data \n",
    "into clusters of order 10**3 for better visualisations\n",
    "and easier analysis\n",
    "\"\"\"\n",
    "\n",
    "H1_PX_SQL = sql(\"select round(H1_PX/10000,0)*10000 as bin, count(1) as count \\\n",
    "                 from sim_data \\\n",
    "                 group by round(H1_PX/10000,0) order by 1\")\n",
    "\n",
    "H1_PX_SQL.show(10)"
   ]
  },
  {
   "cell_type": "code",
   "execution_count": 54,
   "metadata": {},
   "outputs": [
    {
     "data": {
      "text/plain": [
       "Text(0,0.5,'Count')"
      ]
     },
     "execution_count": 54,
     "metadata": {},
     "output_type": "execute_result"
    },
    {
     "data": {
      "image/png": "[encoded data removed]",
      "text/plain": [
       "<Figure size 936x576 with 1 Axes>"
      ]
     },
     "metadata": {
      "needs_background": "light"
     },
     "output_type": "display_data"
    }
   ],
   "source": [
    "H1_PX_Pandas.plot.bar(x = 'bin', y = 'count', title = \"Histogram - H1_PX MeV/c v/s Count\")\n",
    "xlabel(\"H1_PX (MeV/c)\")\n",
    "ylabel(\"Count\")"
   ]
  },
  {
   "cell_type": "code",
   "execution_count": 56,
   "metadata": {},
   "outputs": [
    {
     "name": "stdout",
     "output_type": "stream",
     "text": [
      "+--------+--------+---------+---------+\n",
      "|   H1_PX|   H1_PY|    H1_PZ|   H1_MAG|\n",
      "+--------+--------+---------+---------+\n",
      "| 3551.84| 1636.96| 23904.14| 24221.96|\n",
      "|-2525.98|-5284.05|  35822.0| 36297.62|\n",
      "| -700.67| 1299.73|  8127.76|  8260.79|\n",
      "| 3364.63|  1397.3|222815.29|222845.07|\n",
      "| -581.66|-1305.24| 22249.59| 22295.43|\n",
      "+--------+--------+---------+---------+\n",
      "only showing top 5 rows\n",
      "\n"
     ]
    }
   ],
   "source": [
    "# Finding the magnitude of the momentum for First Kaon candidate\n",
    "# This is because momentum is a vector quantity\n",
    "\n",
    "p_mag = sql(\"\"\"select H1_PX, H1_PY, H1_PZ, round(sqrt(H1_PX*H1_PX+H1_PY*H1_PY+H1_PZ*H1_PZ),2) as H1_MAG\n",
    "               from sim_data \n",
    "               where H1_ProbK = 1.0\n",
    "            \"\"\")\n",
    "\n",
    "p_mag.show(5)"
   ]
  },
  {
   "cell_type": "code",
   "execution_count": 59,
   "metadata": {},
   "outputs": [
    {
     "data": {
      "text/plain": [
       "Text(0,0.5,'Count')"
      ]
     },
     "execution_count": 59,
     "metadata": {},
     "output_type": "execute_result"
    },
    {
     "data": {
      "image/png": "[encoded data removed]",
      "text/plain": [
       "<Figure size 936x576 with 1 Axes>"
      ]
     },
     "metadata": {
      "needs_background": "light"
     },
     "output_type": "display_data"
    }
   ],
   "source": [
    "# Here we visualise the total momentum of Kaon 1\n",
    "\n",
    "p_tot = p_mag.select('H1_MAG').toPandas()\n",
    "p_tot.plot.hist(bins=30)\n",
    "xlabel(\"H1_MAG - MeV/c\")\n",
    "ylabel(\"Count\")"
   ]
  },
  {
   "cell_type": "code",
   "execution_count": 61,
   "metadata": {},
   "outputs": [
    {
     "data": {
      "text/plain": [
       "Text(0,0.5,'Count')"
      ]
     },
     "execution_count": 61,
     "metadata": {},
     "output_type": "execute_result"
    },
    {
     "data": {
      "image/png": "[encoded data removed]",
      "text/plain": [
       "<Figure size 936x576 with 1 Axes>"
      ]
     },
     "metadata": {
      "needs_background": "light"
     },
     "output_type": "display_data"
    }
   ],
   "source": [
    "# Calculating the energy of Kaon 1\n",
    "\n",
    "kcharged_mass = 493.677 # Invariant Mass of Kaon \n",
    "\n",
    "H1_energy = sql(\"\"\"\n",
    "                select round(sqrt({0} + H1_PX*H1_PX + H1_PY*H1_PY + H1_PZ*H1_PZ),2) as H1_Energy\n",
    "                from sim_data\n",
    "                where H1_ProbK = 1.0\n",
    "                \"\"\".format(kcharged_mass*kcharged_mass))\n",
    "\n",
    "H1_energy_Pandas = H1_energy.toPandas()\n",
    "H1_energy_Pandas.head()\n",
    "\n",
    "H1_energy_Pandas.plot.hist(bins=30)\n",
    "\n",
    "xlabel(\"Kaon 1 Energy - MeV\")\n",
    "ylabel(\"Count\")"
   ]
  },
  {
   "cell_type": "code",
   "execution_count": 109,
   "metadata": {},
   "outputs": [
    {
     "data": {
      "text/plain": [
       "Text(0,0.5,'Count')"
      ]
     },
     "execution_count": 109,
     "metadata": {},
     "output_type": "execute_result"
    },
    {
     "data": {
      "image/png": "[encoded data removed]",
      "text/plain": [
       "<Figure size 936x576 with 1 Axes>"
      ]
     },
     "metadata": {
      "needs_background": "light"
     },
     "output_type": "display_data"
    },
    {
     "data": {
      "image/png": "[encoded data removed]",
      "text/plain": [
       "<Figure size 936x576 with 1 Axes>"
      ]
     },
     "metadata": {
      "needs_background": "light"
     },
     "output_type": "display_data"
    }
   ],
   "source": [
    "# Calculating the energy of Kaon 2\n",
    "\n",
    "H2_energy = sql(\"\"\"\n",
    "                select round(sqrt({0} + H2_PX*H2_PX + H2_PY*H2_PY + H2_PZ*H2_PZ),2) as H2_Energy\n",
    "                from sim_data\n",
    "                where H2_ProbK = 1.0\n",
    "                \"\"\".format(kcharged_mass*kcharged_mass))\n",
    "H2_energy_Pandas = H2_energy.toPandas()\n",
    "H2_energy_Pandas.head()\n",
    "\n",
    "H2_energy_Pandas.plot.hist(bins=30,color=\"green\")\n",
    "xlabel(\"Kaon 2 Energy - MeV\")\n",
    "ylabel(\"Count\")\n",
    "\n",
    "# Calculating the energy of Kaon 3\n",
    "\n",
    "H3_energy = sql(\"\"\"\n",
    "                select round(sqrt({0} + H3_PX*H3_PX + H3_PY*H3_PY + H3_PZ*H3_PZ),2) as H3_Energy\n",
    "                from sim_data\n",
    "                where H3_ProbK = 1.0\n",
    "                \"\"\".format(kcharged_mass*kcharged_mass))\n",
    "H3_energy_Pandas = H3_energy.toPandas()\n",
    "H3_energy_Pandas.head()\n",
    "\n",
    "H3_energy_Pandas.plot.hist(bins=30)\n",
    "xlabel(\"Kaon 3 Energy - MeV\")\n",
    "ylabel(\"Count\")"
   ]
  },
  {
   "cell_type": "code",
   "execution_count": 65,
   "metadata": {},
   "outputs": [
    {
     "name": "stdout",
     "output_type": "stream",
     "text": [
      "+------------------+------------------+------------------+------------------+\n",
      "|        Tot_Energy|            PX_Tot|            PY_Tot|            PZ_Tot|\n",
      "+------------------+------------------+------------------+------------------+\n",
      "| 657116.5757740112| 81159.39000000001|34164.380000000005|         651168.39|\n",
      "| 731372.0511105937|-54357.21000000001|        -118454.64| 719646.4400000001|\n",
      "|106495.84886114487|          -15596.0|15711.460000000001|         104035.62|\n",
      "| 425265.3012500729|           7482.21|           2216.05|425161.00000000006|\n",
      "|  338761.408158081|          -2248.65|         -11608.84|         338513.81|\n",
      "+------------------+------------------+------------------+------------------+\n",
      "only showing top 5 rows\n",
      "\n"
     ]
    }
   ],
   "source": [
    "# Total energy of all the Kaons : K1 + K2 + K3 => Tot_Energy\n",
    "# Total momentum of all the Kaons 1 => PX_Tot\n",
    "# Total momentum of all the Kaons 2 => PY_Tot\n",
    "# Total momentum of all the Kaons 3 => PZ_Tot\n",
    "\n",
    "b_meson_4momentum = sum_kaons_energy = sql(\"\"\"\n",
    "  select \n",
    "    sqrt({0} + H1_PX*H1_PX + H1_PY*H1_PY + H1_PZ*H1_PZ)  +\n",
    "    sqrt({0} + H2_PX*H2_PX + H2_PY*H2_PY + H2_PZ*H2_PZ)  +\n",
    "    sqrt({0} + H3_PX*H3_PX + H3_PY*H3_PY + H3_PZ*H3_PZ)  as Tot_Energy,\n",
    "    H1_PX + H2_PX + H3_PX as PX_Tot,\n",
    "    H1_PY + H2_PY + H3_PY as PY_Tot,\n",
    "    H1_PZ + H2_PZ + H3_PZ as PZ_Tot\n",
    "  from sim_data\n",
    "  where H1_ProbK = 1.0 and H2_ProbK = 1.0 and H3_ProbK = 1.0\"\"\".format(kcharged_mass*kcharged_mass))\n",
    "\n",
    "b_meson_4momentum.show(5)"
   ]
  },
  {
   "cell_type": "code",
   "execution_count": 66,
   "metadata": {},
   "outputs": [
    {
     "name": "stdout",
     "output_type": "stream",
     "text": [
      "+------------------+\n",
      "|    invariant_mass|\n",
      "+------------------+\n",
      "| 5279.259021223659|\n",
      "|5279.2541641354055|\n",
      "| 5279.242799854169|\n",
      "| 5273.156761236732|\n",
      "| 5279.252178269909|\n",
      "+------------------+\n",
      "only showing top 5 rows\n",
      "\n"
     ]
    }
   ],
   "source": [
    "# Finding invariant mass of B-meson\n",
    "\n",
    "b_meson_invariant_mass = b_meson_4momentum.selectExpr(\"\"\"\n",
    "   sqrt(Tot_Energy* Tot_Energy - (PX_Tot*PX_Tot + PY_Tot*PY_Tot + PZ_Tot*PZ_Tot) ) as invariant_mass\n",
    "   \"\"\")\n",
    "   \n",
    "b_meson_invariant_mass.show(5)"
   ]
  },
  {
   "cell_type": "code",
   "execution_count": 70,
   "metadata": {},
   "outputs": [
    {
     "data": {
      "image/png": "[encoded data removed]",
      "text/plain": [
       "<Figure size 936x576 with 1 Axes>"
      ]
     },
     "metadata": {
      "needs_background": "light"
     },
     "output_type": "display_data"
    }
   ],
   "source": [
    "# Finding the frequency of invariant mass\n",
    "# Plot shows that there is high probability that invarant_mass = 5279 MeV apprx.\n",
    "# This corresponds to the actual B-meson invariant mass i.e. 5279.26 MeV\n",
    "\n",
    "b_meson_invariant_mass.toPandas().plot.hist(\\\n",
    "                            bins=101, range=[4000, 6000],\\\n",
    "                            title=\"Histogram - distribution of B meson invariant mass, simulation data\") \n",
    "xlabel('b_meson_invariant_mass (MeV)')\n",
    "ylabel('Count');"
   ]
  },
  {
   "cell_type": "markdown",
   "metadata": {},
   "source": [
    "## Working with Real Data"
   ]
  },
  {
   "cell_type": "code",
   "execution_count": 71,
   "metadata": {},
   "outputs": [],
   "source": [
    "B2HHH_MagnetDown = spark.read.format(\"org.dianahep.sparkroot\").load(data_directory + \"B2HHH_MagnetDown.root\")\n",
    "B2HHH_MagnetUp = spark.read.format(\"org.dianahep.sparkroot\").load(data_directory + \"B2HHH_MagnetUp.root\")\n",
    "\n",
    "# Merging the data into a single dataframe\n",
    "\n",
    "B2HHH_AllData = B2HHH_MagnetDown.union(B2HHH_MagnetUp)"
   ]
  },
  {
   "cell_type": "markdown",
   "metadata": {},
   "source": [
    "## Preselection\n",
    "\n",
    "* Probability ( Hadron 1 is a Pion ) < 0.5\n",
    "* Probability ( Hadron 2 is a Pion ) < 0.5\n",
    "* Probability ( Hadron 3 is a Pion ) < 0.5\n",
    "* Probability ( Hadron 1 is a Kaon ) > 0.5\n",
    "* Probability ( Hadron 2 is a Kaon ) > 0.5\n",
    "* Probability ( Hadron 3 is a Kaon ) > 0.5\n",
    "* Probability ( Hadron 1 is a Muon ) = 0.0\n",
    "* Probability ( Hadron 2 is a Muon ) = 0.0\n",
    "* Probability(  Hadron 3 is a Muon ) = 0.0"
   ]
  },
  {
   "cell_type": "code",
   "execution_count": 72,
   "metadata": {},
   "outputs": [],
   "source": [
    "preselection = \"\"\"H1_ProbPi < 0.5 and H2_ProbPi < 0.5 and H3_ProbPi < 0.5 \n",
    "      and H1_ProbK > 0.5 and H2_ProbK > 0.5 and H3_ProbK > 0.5 \n",
    "      and H1_isMuon = 0 and H2_isMuon = 0 and H3_isMuon = 0\"\"\"\n",
    "\n",
    "# Apply cuts to the data as a filter \n",
    "\n",
    "B2HHH_AllData_WithCuts = B2HHH_AllData.filter(preselection)"
   ]
  },
  {
   "cell_type": "code",
   "execution_count": 73,
   "metadata": {},
   "outputs": [
    {
     "data": {
      "text/plain": [
       "23895"
      ]
     },
     "execution_count": 73,
     "metadata": {},
     "output_type": "execute_result"
    }
   ],
   "source": [
    "# Caching the dataframe to improve performance\n",
    "\n",
    "B2HHH_AllData_WithCuts.cache()\n",
    "\n",
    "# Data only read when the following command is executed\n",
    "\n",
    "B2HHH_AllData_WithCuts.count()"
   ]
  },
  {
   "cell_type": "code",
   "execution_count": 75,
   "metadata": {},
   "outputs": [],
   "source": [
    "# Creating or Replacing the View\n",
    "\n",
    "B2HHH_AllData_WithCuts.createOrReplaceTempView(\"B2HHH_AllData_WithCuts\")"
   ]
  },
  {
   "cell_type": "code",
   "execution_count": 76,
   "metadata": {},
   "outputs": [
    {
     "data": {
      "text/html": [
       "<div>\n",
       "<style scoped>\n",
       "    .dataframe tbody tr th:only-of-type {\n",
       "        vertical-align: middle;\n",
       "    }\n",
       "\n",
       "    .dataframe tbody tr th {\n",
       "        vertical-align: top;\n",
       "    }\n",
       "\n",
       "    .dataframe thead th {\n",
       "        text-align: right;\n",
       "    }\n",
       "</style>\n",
       "<table border=\"1\" class=\"dataframe\">\n",
       "  <thead>\n",
       "    <tr style=\"text-align: right;\">\n",
       "      <th></th>\n",
       "      <th>B_FlightDistance</th>\n",
       "      <th>B_VertexChi2</th>\n",
       "      <th>H1_PX</th>\n",
       "      <th>H1_PY</th>\n",
       "      <th>H1_PZ</th>\n",
       "      <th>H1_ProbK</th>\n",
       "      <th>H1_ProbPi</th>\n",
       "      <th>H1_Charge</th>\n",
       "      <th>H1_IPChi2</th>\n",
       "      <th>H1_isMuon</th>\n",
       "      <th>...</th>\n",
       "      <th>H2_IPChi2</th>\n",
       "      <th>H2_isMuon</th>\n",
       "      <th>H3_PX</th>\n",
       "      <th>H3_PY</th>\n",
       "      <th>H3_PZ</th>\n",
       "      <th>H3_ProbK</th>\n",
       "      <th>H3_ProbPi</th>\n",
       "      <th>H3_Charge</th>\n",
       "      <th>H3_IPChi2</th>\n",
       "      <th>H3_isMuon</th>\n",
       "    </tr>\n",
       "  </thead>\n",
       "  <tbody>\n",
       "    <tr>\n",
       "      <th>0</th>\n",
       "      <td>6.888037</td>\n",
       "      <td>8.426947</td>\n",
       "      <td>1207.753798</td>\n",
       "      <td>-84.290958</td>\n",
       "      <td>10399.473702</td>\n",
       "      <td>0.902219</td>\n",
       "      <td>0.041574</td>\n",
       "      <td>-1</td>\n",
       "      <td>998.424410</td>\n",
       "      <td>0</td>\n",
       "      <td>...</td>\n",
       "      <td>110.519068</td>\n",
       "      <td>0</td>\n",
       "      <td>1973.085892</td>\n",
       "      <td>-289.150032</td>\n",
       "      <td>26771.341608</td>\n",
       "      <td>0.915843</td>\n",
       "      <td>0.057261</td>\n",
       "      <td>1</td>\n",
       "      <td>386.493713</td>\n",
       "      <td>0</td>\n",
       "    </tr>\n",
       "    <tr>\n",
       "      <th>1</th>\n",
       "      <td>8.957103</td>\n",
       "      <td>3.474719</td>\n",
       "      <td>-811.617861</td>\n",
       "      <td>-518.300956</td>\n",
       "      <td>22338.883014</td>\n",
       "      <td>0.942885</td>\n",
       "      <td>0.093401</td>\n",
       "      <td>1</td>\n",
       "      <td>162.677006</td>\n",
       "      <td>0</td>\n",
       "      <td>...</td>\n",
       "      <td>1994.119734</td>\n",
       "      <td>0</td>\n",
       "      <td>-4801.397918</td>\n",
       "      <td>1993.340031</td>\n",
       "      <td>76466.229808</td>\n",
       "      <td>0.806471</td>\n",
       "      <td>0.385119</td>\n",
       "      <td>-1</td>\n",
       "      <td>158.823018</td>\n",
       "      <td>0</td>\n",
       "    </tr>\n",
       "    <tr>\n",
       "      <th>2</th>\n",
       "      <td>9.100733</td>\n",
       "      <td>4.113123</td>\n",
       "      <td>-2007.925735</td>\n",
       "      <td>-2555.080382</td>\n",
       "      <td>26601.465958</td>\n",
       "      <td>0.917661</td>\n",
       "      <td>0.077237</td>\n",
       "      <td>-1</td>\n",
       "      <td>1355.611615</td>\n",
       "      <td>0</td>\n",
       "      <td>...</td>\n",
       "      <td>8500.518262</td>\n",
       "      <td>0</td>\n",
       "      <td>-1260.859080</td>\n",
       "      <td>-2824.663002</td>\n",
       "      <td>22365.178510</td>\n",
       "      <td>0.947676</td>\n",
       "      <td>0.097263</td>\n",
       "      <td>1</td>\n",
       "      <td>352.235461</td>\n",
       "      <td>0</td>\n",
       "    </tr>\n",
       "    <tr>\n",
       "      <th>3</th>\n",
       "      <td>11.077374</td>\n",
       "      <td>2.360357</td>\n",
       "      <td>1408.170513</td>\n",
       "      <td>-1372.864558</td>\n",
       "      <td>66357.093308</td>\n",
       "      <td>0.785618</td>\n",
       "      <td>0.119467</td>\n",
       "      <td>-1</td>\n",
       "      <td>2.799029</td>\n",
       "      <td>0</td>\n",
       "      <td>...</td>\n",
       "      <td>564.019813</td>\n",
       "      <td>0</td>\n",
       "      <td>2171.855775</td>\n",
       "      <td>-1964.419835</td>\n",
       "      <td>92096.742555</td>\n",
       "      <td>0.560237</td>\n",
       "      <td>0.070540</td>\n",
       "      <td>1</td>\n",
       "      <td>44.498271</td>\n",
       "      <td>0</td>\n",
       "    </tr>\n",
       "    <tr>\n",
       "      <th>4</th>\n",
       "      <td>17.743006</td>\n",
       "      <td>5.116309</td>\n",
       "      <td>1457.671574</td>\n",
       "      <td>1311.684099</td>\n",
       "      <td>8551.692070</td>\n",
       "      <td>0.783945</td>\n",
       "      <td>0.029395</td>\n",
       "      <td>1</td>\n",
       "      <td>18266.642863</td>\n",
       "      <td>0</td>\n",
       "      <td>...</td>\n",
       "      <td>1098.894225</td>\n",
       "      <td>0</td>\n",
       "      <td>10985.230400</td>\n",
       "      <td>1271.856077</td>\n",
       "      <td>62682.682662</td>\n",
       "      <td>0.576559</td>\n",
       "      <td>0.455894</td>\n",
       "      <td>-1</td>\n",
       "      <td>360.444011</td>\n",
       "      <td>0</td>\n",
       "    </tr>\n",
       "    <tr>\n",
       "      <th>5</th>\n",
       "      <td>11.554098</td>\n",
       "      <td>1.120899</td>\n",
       "      <td>-77.919930</td>\n",
       "      <td>598.047768</td>\n",
       "      <td>18486.604881</td>\n",
       "      <td>0.937157</td>\n",
       "      <td>0.227115</td>\n",
       "      <td>1</td>\n",
       "      <td>89.128636</td>\n",
       "      <td>0</td>\n",
       "      <td>...</td>\n",
       "      <td>2387.913090</td>\n",
       "      <td>0</td>\n",
       "      <td>-3786.001956</td>\n",
       "      <td>-3050.190096</td>\n",
       "      <td>49924.677288</td>\n",
       "      <td>0.940656</td>\n",
       "      <td>0.096659</td>\n",
       "      <td>-1</td>\n",
       "      <td>827.264326</td>\n",
       "      <td>0</td>\n",
       "    </tr>\n",
       "    <tr>\n",
       "      <th>6</th>\n",
       "      <td>8.296893</td>\n",
       "      <td>7.380471</td>\n",
       "      <td>970.351808</td>\n",
       "      <td>-490.045926</td>\n",
       "      <td>27929.242265</td>\n",
       "      <td>0.966135</td>\n",
       "      <td>0.095613</td>\n",
       "      <td>1</td>\n",
       "      <td>135.543971</td>\n",
       "      <td>0</td>\n",
       "      <td>...</td>\n",
       "      <td>944.174083</td>\n",
       "      <td>0</td>\n",
       "      <td>1618.033440</td>\n",
       "      <td>-1593.587768</td>\n",
       "      <td>45253.841121</td>\n",
       "      <td>0.959964</td>\n",
       "      <td>0.098093</td>\n",
       "      <td>-1</td>\n",
       "      <td>260.910241</td>\n",
       "      <td>0</td>\n",
       "    </tr>\n",
       "    <tr>\n",
       "      <th>7</th>\n",
       "      <td>15.875883</td>\n",
       "      <td>1.656760</td>\n",
       "      <td>2336.165388</td>\n",
       "      <td>4166.002188</td>\n",
       "      <td>35728.525679</td>\n",
       "      <td>0.946878</td>\n",
       "      <td>0.060513</td>\n",
       "      <td>-1</td>\n",
       "      <td>3321.946818</td>\n",
       "      <td>0</td>\n",
       "      <td>...</td>\n",
       "      <td>1942.129052</td>\n",
       "      <td>0</td>\n",
       "      <td>-1708.189185</td>\n",
       "      <td>2517.048779</td>\n",
       "      <td>27592.747481</td>\n",
       "      <td>0.961387</td>\n",
       "      <td>0.125535</td>\n",
       "      <td>1</td>\n",
       "      <td>7027.069112</td>\n",
       "      <td>0</td>\n",
       "    </tr>\n",
       "    <tr>\n",
       "      <th>8</th>\n",
       "      <td>12.265774</td>\n",
       "      <td>5.394378</td>\n",
       "      <td>2606.155962</td>\n",
       "      <td>-4657.669797</td>\n",
       "      <td>99824.722050</td>\n",
       "      <td>0.755108</td>\n",
       "      <td>0.403123</td>\n",
       "      <td>1</td>\n",
       "      <td>153.705895</td>\n",
       "      <td>0</td>\n",
       "      <td>...</td>\n",
       "      <td>4.976051</td>\n",
       "      <td>0</td>\n",
       "      <td>961.067631</td>\n",
       "      <td>892.008741</td>\n",
       "      <td>12739.165721</td>\n",
       "      <td>0.630626</td>\n",
       "      <td>0.030043</td>\n",
       "      <td>-1</td>\n",
       "      <td>4351.779561</td>\n",
       "      <td>0</td>\n",
       "    </tr>\n",
       "    <tr>\n",
       "      <th>9</th>\n",
       "      <td>7.960260</td>\n",
       "      <td>9.528332</td>\n",
       "      <td>-1740.175238</td>\n",
       "      <td>1060.634895</td>\n",
       "      <td>76542.224969</td>\n",
       "      <td>0.823950</td>\n",
       "      <td>0.096627</td>\n",
       "      <td>-1</td>\n",
       "      <td>28.678577</td>\n",
       "      <td>0</td>\n",
       "      <td>...</td>\n",
       "      <td>309.280125</td>\n",
       "      <td>0</td>\n",
       "      <td>-2026.920178</td>\n",
       "      <td>887.978374</td>\n",
       "      <td>47609.309664</td>\n",
       "      <td>0.972340</td>\n",
       "      <td>0.161073</td>\n",
       "      <td>1</td>\n",
       "      <td>193.376446</td>\n",
       "      <td>0</td>\n",
       "    </tr>\n",
       "  </tbody>\n",
       "</table>\n",
       "<p>10 rows × 26 columns</p>\n",
       "</div>"
      ],
      "text/plain": [
       "   B_FlightDistance  B_VertexChi2        H1_PX        H1_PY         H1_PZ  \\\n",
       "0          6.888037      8.426947  1207.753798   -84.290958  10399.473702   \n",
       "1          8.957103      3.474719  -811.617861  -518.300956  22338.883014   \n",
       "2          9.100733      4.113123 -2007.925735 -2555.080382  26601.465958   \n",
       "3         11.077374      2.360357  1408.170513 -1372.864558  66357.093308   \n",
       "4         17.743006      5.116309  1457.671574  1311.684099   8551.692070   \n",
       "5         11.554098      1.120899   -77.919930   598.047768  18486.604881   \n",
       "6          8.296893      7.380471   970.351808  -490.045926  27929.242265   \n",
       "7         15.875883      1.656760  2336.165388  4166.002188  35728.525679   \n",
       "8         12.265774      5.394378  2606.155962 -4657.669797  99824.722050   \n",
       "9          7.960260      9.528332 -1740.175238  1060.634895  76542.224969   \n",
       "\n",
       "   H1_ProbK  H1_ProbPi  H1_Charge     H1_IPChi2  H1_isMuon    ...      \\\n",
       "0  0.902219   0.041574         -1    998.424410          0    ...       \n",
       "1  0.942885   0.093401          1    162.677006          0    ...       \n",
       "2  0.917661   0.077237         -1   1355.611615          0    ...       \n",
       "3  0.785618   0.119467         -1      2.799029          0    ...       \n",
       "4  0.783945   0.029395          1  18266.642863          0    ...       \n",
       "5  0.937157   0.227115          1     89.128636          0    ...       \n",
       "6  0.966135   0.095613          1    135.543971          0    ...       \n",
       "7  0.946878   0.060513         -1   3321.946818          0    ...       \n",
       "8  0.755108   0.403123          1    153.705895          0    ...       \n",
       "9  0.823950   0.096627         -1     28.678577          0    ...       \n",
       "\n",
       "     H2_IPChi2  H2_isMuon         H3_PX        H3_PY         H3_PZ  H3_ProbK  \\\n",
       "0   110.519068          0   1973.085892  -289.150032  26771.341608  0.915843   \n",
       "1  1994.119734          0  -4801.397918  1993.340031  76466.229808  0.806471   \n",
       "2  8500.518262          0  -1260.859080 -2824.663002  22365.178510  0.947676   \n",
       "3   564.019813          0   2171.855775 -1964.419835  92096.742555  0.560237   \n",
       "4  1098.894225          0  10985.230400  1271.856077  62682.682662  0.576559   \n",
       "5  2387.913090          0  -3786.001956 -3050.190096  49924.677288  0.940656   \n",
       "6   944.174083          0   1618.033440 -1593.587768  45253.841121  0.959964   \n",
       "7  1942.129052          0  -1708.189185  2517.048779  27592.747481  0.961387   \n",
       "8     4.976051          0    961.067631   892.008741  12739.165721  0.630626   \n",
       "9   309.280125          0  -2026.920178   887.978374  47609.309664  0.972340   \n",
       "\n",
       "   H3_ProbPi  H3_Charge    H3_IPChi2  H3_isMuon  \n",
       "0   0.057261          1   386.493713          0  \n",
       "1   0.385119         -1   158.823018          0  \n",
       "2   0.097263          1   352.235461          0  \n",
       "3   0.070540          1    44.498271          0  \n",
       "4   0.455894         -1   360.444011          0  \n",
       "5   0.096659         -1   827.264326          0  \n",
       "6   0.098093         -1   260.910241          0  \n",
       "7   0.125535          1  7027.069112          0  \n",
       "8   0.030043         -1  4351.779561          0  \n",
       "9   0.161073          1   193.376446          0  \n",
       "\n",
       "[10 rows x 26 columns]"
      ]
     },
     "execution_count": 76,
     "metadata": {},
     "output_type": "execute_result"
    }
   ],
   "source": [
    "# Viewing the data as a Pandas dataframe\n",
    "\n",
    "B2HHH_AllData_WithCuts.limit(10).toPandas()"
   ]
  },
  {
   "cell_type": "code",
   "execution_count": 77,
   "metadata": {},
   "outputs": [
    {
     "name": "stdout",
     "output_type": "stream",
     "text": [
      "root\n",
      " |-- B_FlightDistance: double (nullable = true)\n",
      " |-- B_VertexChi2: double (nullable = true)\n",
      " |-- H1_PX: double (nullable = true)\n",
      " |-- H1_PY: double (nullable = true)\n",
      " |-- H1_PZ: double (nullable = true)\n",
      " |-- H1_ProbK: double (nullable = true)\n",
      " |-- H1_ProbPi: double (nullable = true)\n",
      " |-- H1_Charge: integer (nullable = true)\n",
      " |-- H1_IPChi2: double (nullable = true)\n",
      " |-- H1_isMuon: integer (nullable = true)\n",
      " |-- H2_PX: double (nullable = true)\n",
      " |-- H2_PY: double (nullable = true)\n",
      " |-- H2_PZ: double (nullable = true)\n",
      " |-- H2_ProbK: double (nullable = true)\n",
      " |-- H2_ProbPi: double (nullable = true)\n",
      " |-- H2_Charge: integer (nullable = true)\n",
      " |-- H2_IPChi2: double (nullable = true)\n",
      " |-- H2_isMuon: integer (nullable = true)\n",
      " |-- H3_PX: double (nullable = true)\n",
      " |-- H3_PY: double (nullable = true)\n",
      " |-- H3_PZ: double (nullable = true)\n",
      " |-- H3_ProbK: double (nullable = true)\n",
      " |-- H3_ProbPi: double (nullable = true)\n",
      " |-- H3_Charge: integer (nullable = true)\n",
      " |-- H3_IPChi2: double (nullable = true)\n",
      " |-- H3_isMuon: integer (nullable = true)\n",
      "\n"
     ]
    }
   ],
   "source": [
    "# The dataframe containing real data has the following features\n",
    "\n",
    "B2HHH_AllData_WithCuts.printSchema()"
   ]
  },
  {
   "cell_type": "code",
   "execution_count": 88,
   "metadata": {},
   "outputs": [
    {
     "data": {
      "image/png": "[encoded data removed]",
      "text/plain": [
       "<Figure size 936x576 with 1 Axes>"
      ]
     },
     "metadata": {
      "needs_background": "light"
     },
     "output_type": "display_data"
    }
   ],
   "source": [
    "# Visualizing frequency of probabilities of Hadrons being Kaons\n",
    "\n",
    "B2HHH_AllData_WithCuts.select(\"H2_ProbK\", \"H3_ProbK\", \"H1_ProbK\").toPandas().plot.hist(bins=101, range=[0.0, 1.0])\n",
    "xlabel('Probability value that the particle is a kaon')\n",
    "ylabel('Count');"
   ]
  },
  {
   "cell_type": "code",
   "execution_count": 89,
   "metadata": {},
   "outputs": [
    {
     "data": {
      "image/png": "[encoded data removed]",
      "text/plain": [
       "<Figure size 936x576 with 1 Axes>"
      ]
     },
     "metadata": {
      "needs_background": "light"
     },
     "output_type": "display_data"
    }
   ],
   "source": [
    "# Visualizing frequency of probabilities of Hadrons being KPions\n",
    "\n",
    "B2HHH_AllData_WithCuts.select(\"H2_ProbPi\", \"H3_ProbPi\", \"H1_ProbPi\").toPandas().plot.hist(bins=101, range=[0.0, 1.0])\n",
    "xlabel('Probability value that the particle is a pion')\n",
    "ylabel('Count');"
   ]
  },
  {
   "cell_type": "code",
   "execution_count": 90,
   "metadata": {},
   "outputs": [
    {
     "name": "stdout",
     "output_type": "stream",
     "text": [
      "+------------------+-------------------+-------------------+------------------+\n",
      "|        Tot_Energy|             PX_Tot|             PY_Tot|            PZ_Tot|\n",
      "+------------------+-------------------+-------------------+------------------+\n",
      "| 86162.89710374283|  1916.065670301517|  77.15992169481359| 85981.36256238335|\n",
      "|116710.00497921911| -7144.666830516883| -15.24835325482104|116369.28397058396|\n",
      "| 64528.29362291747|-1575.5401941634025|-7543.4895996123105| 63848.13679774214|\n",
      "| 207873.7078340979|  1924.019093047381| -3781.162863847703|207762.59892769693|\n",
      "|117052.18424146794| 18764.329326458574|   2844.36565135338|115392.75963356277|\n",
      "+------------------+-------------------+-------------------+------------------+\n",
      "only showing top 5 rows\n",
      "\n"
     ]
    }
   ],
   "source": [
    "# Total energy of all the Kaons : K1 + K2 + K3 => Tot_Energy\n",
    "# Total momentum of all the Kaons 1 => PX_Tot\n",
    "# Total momentum of all the Kaons 2 => PY_Tot\n",
    "# Total momentum of all the Kaons 3 => PZ_Tot\n",
    "\n",
    "b_meson_4momentum_withcuts = sql(\"\"\"\n",
    "  select \n",
    "     sqrt({0} + H1_PX*H1_PX + H1_PY*H1_PY + H1_PZ*H1_PZ)  +\n",
    "     sqrt({0} + H2_PX*H2_PX + H2_PY*H2_PY + H2_PZ*H2_PZ) +\n",
    "     sqrt({0} + H3_PX*H3_PX + H3_PY*H3_PY + H3_PZ*H3_PZ) as Tot_Energy,\n",
    "     H1_PX + H2_PX + H3_PX as PX_Tot,\n",
    "     H1_PY + H2_PY + H3_PY as PY_Tot,\n",
    "     H1_PZ + H2_PZ + H3_PZ as PZ_Tot\n",
    "  from B2HHH_AllData_WithCuts\"\"\".format(kcharged_mass*kcharged_mass))\n",
    "\n",
    "b_meson_4momentum_withcuts.createOrReplaceTempView(\"b_meson_4momentum_mycuts_read_data\")\n",
    "b_meson_4momentum_withcuts.show(5)\n"
   ]
  },
  {
   "cell_type": "code",
   "execution_count": 91,
   "metadata": {},
   "outputs": [
    {
     "name": "stdout",
     "output_type": "stream",
     "text": [
      "+------------------+\n",
      "|    invariant_mass|\n",
      "+------------------+\n",
      "| 5250.987328087266|\n",
      "|5326.2100776796615|\n",
      "| 5284.840877393883|\n",
      "| 5308.658345711811|\n",
      "| 5053.156322435298|\n",
      "+------------------+\n",
      "only showing top 5 rows\n",
      "\n"
     ]
    }
   ],
   "source": [
    "# Inferred Invarant mass of B-meson from captured data\n",
    "\n",
    "b_meson_invariant_mass_withcuts = b_meson_4momentum_withcuts.selectExpr(\"\"\"\n",
    "   sqrt(Tot_Energy* Tot_Energy - (PX_Tot*PX_Tot + PY_Tot*PY_Tot + PZ_Tot*PZ_Tot) ) as invariant_mass\"\"\")\n",
    "   \n",
    "b_meson_invariant_mass_withcuts.show(5)"
   ]
  },
  {
   "cell_type": "code",
   "execution_count": 108,
   "metadata": {},
   "outputs": [
    {
     "data": {
      "image/png": "[encoded data removed]",
      "text/plain": [
       "<Figure size 936x576 with 1 Axes>"
      ]
     },
     "metadata": {
      "needs_background": "light"
     },
     "output_type": "display_data"
    }
   ],
   "source": [
    "b_meson_invariant_mass_withcuts.toPandas().plot.hist(bins=101, range=[4000, 6000],\n",
    "title=\"Histogram - distribution of B meson invariant mass, real data\", color=\"magenta\") \n",
    "xlabel('b_meson_invariant_mass (MeV)')\n",
    "ylabel('Count');"
   ]
  },
  {
   "cell_type": "markdown",
   "metadata": {},
   "source": [
    "## In search of Global Baryonic Asymmetries (CP Violation)\n",
    "\n",
    "* B<sup>+</sup> has a charge of +1\n",
    "* B<sup>-</sup> has a charge of -1\n",
    "* B<sup>+</sup> &rarr; K<sup>+</sup>K<sup>+</sup>K<sup>-</sup>\n",
    "* B<sup>-</sup> &rarr; K<sup>+</sup>K<sup>-</sup>K<sup>-</sup>"
   ]
  },
  {
   "cell_type": "code",
   "execution_count": 25,
   "metadata": {},
   "outputs": [],
   "source": [
    "B_charge = B2HHH_AllData_WithCuts.selectExpr(\"H1_charge + H2_charge + H3_charge as B_Charge\")"
   ]
  },
  {
   "cell_type": "code",
   "execution_count": 93,
   "metadata": {},
   "outputs": [
    {
     "name": "stdout",
     "output_type": "stream",
     "text": [
      "+--------+-----+\n",
      "|B_Charge|count|\n",
      "+--------+-----+\n",
      "|      -1|11505|\n",
      "|       1|12390|\n",
      "+--------+-----+\n",
      "\n"
     ]
    }
   ],
   "source": [
    "# Clearly there is asymmetry in the freqeuency of occurrances of B+ and B-\n",
    "# But in theory both should have near to equal values\n",
    "\n",
    "B_charge.groupBy(\"B_Charge\").count().show()"
   ]
  },
  {
   "cell_type": "markdown",
   "metadata": {},
   "source": [
    "## Calculating Asymmetry\n",
    "\n"
   ]
  },
  {
   "cell_type": "code",
   "execution_count": 98,
   "metadata": {},
   "outputs": [
    {
     "name": "stdout",
     "output_type": "stream",
     "text": [
      "Asymmetry =  -0.037037037037037035\n"
     ]
    }
   ],
   "source": [
    "N_plus = 12390.0 # Number of B+\n",
    "N_minus = 11505.0 # Number of B-\n",
    "\n",
    "A =  (N_minus - N_plus) / (N_minus + N_plus)\n",
    "print(\"Asymmetry = \", A)"
   ]
  },
  {
   "cell_type": "markdown",
   "metadata": {},
   "source": [
    "## Calculating Statistical Uncertainty of the Asymmetry"
   ]
  },
  {
   "cell_type": "code",
   "execution_count": 99,
   "metadata": {},
   "outputs": [
    {
     "name": "stdout",
     "output_type": "stream",
     "text": [
      "Statistical Deviation (Sigma) =  0.006464700479261738\n"
     ]
    }
   ],
   "source": [
    "print(\"Statistical Deviation (Sigma) = \", sqrt((1 - A*A)/(N_minus + N_plus)))"
   ]
  },
  {
   "cell_type": "markdown",
   "metadata": {},
   "source": [
    "## Two body Resonance and Dalitz Plot\n",
    "\n",
    "* B<sup>+</sup> &rarr; K<sup>+</sup><sub>1</sub>K<sup>+</sup><sub>2</sub>K<sup>-</sup><sub>3</sub>\n",
    "* R<sup>++</sup><sub>1</sub> &rarr; K<sup>+</sup><sub>1</sub>K<sup>+</sup><sub>2</sub>\n",
    "* R<sup>0</sup><sub>1</sub> &rarr; K<sup>+</sup><sub>1</sub>K<sup>-</sup><sub>3</sub>\n",
    "* R<sup>0</sup><sub>3</sub> &rarr; K<sup>+</sup><sub>2</sub>K<sup>-</sup><sub>3</sub>."
   ]
  },
  {
   "cell_type": "code",
   "execution_count": 100,
   "metadata": {},
   "outputs": [
    {
     "data": {
      "text/html": [
       "<div>\n",
       "<style scoped>\n",
       "    .dataframe tbody tr th:only-of-type {\n",
       "        vertical-align: middle;\n",
       "    }\n",
       "\n",
       "    .dataframe tbody tr th {\n",
       "        vertical-align: top;\n",
       "    }\n",
       "\n",
       "    .dataframe thead th {\n",
       "        text-align: right;\n",
       "    }\n",
       "</style>\n",
       "<table border=\"1\" class=\"dataframe\">\n",
       "  <thead>\n",
       "    <tr style=\"text-align: right;\">\n",
       "      <th></th>\n",
       "      <th>Energy_K1_K2</th>\n",
       "      <th>P_K1_K2</th>\n",
       "      <th>Energy_K1_K3</th>\n",
       "      <th>P_K1_K3</th>\n",
       "      <th>Energy_K2_K3</th>\n",
       "      <th>P_K2_K3</th>\n",
       "      <th>H1_Charge</th>\n",
       "      <th>H2_Charge</th>\n",
       "      <th>H3_Charge</th>\n",
       "    </tr>\n",
       "  </thead>\n",
       "  <tbody>\n",
       "    <tr>\n",
       "      <th>0</th>\n",
       "      <td>59312.848237</td>\n",
       "      <td>59211.181509</td>\n",
       "      <td>37331.391551</td>\n",
       "      <td>37308.534012</td>\n",
       "      <td>75681.554420</td>\n",
       "      <td>75585.380172</td>\n",
       "      <td>-1</td>\n",
       "      <td>1</td>\n",
       "      <td>1</td>\n",
       "    </tr>\n",
       "    <tr>\n",
       "      <th>1</th>\n",
       "      <td>40065.665041</td>\n",
       "      <td>40022.232171</td>\n",
       "      <td>99009.419207</td>\n",
       "      <td>98975.411119</td>\n",
       "      <td>94344.925710</td>\n",
       "      <td>94244.771077</td>\n",
       "      <td>1</td>\n",
       "      <td>-1</td>\n",
       "      <td>-1</td>\n",
       "    </tr>\n",
       "    <tr>\n",
       "      <th>2</th>\n",
       "      <td>41944.817064</td>\n",
       "      <td>41751.672744</td>\n",
       "      <td>49387.243264</td>\n",
       "      <td>49369.614780</td>\n",
       "      <td>37724.526918</td>\n",
       "      <td>37581.719924</td>\n",
       "      <td>-1</td>\n",
       "      <td>1</td>\n",
       "      <td>1</td>\n",
       "    </tr>\n",
       "    <tr>\n",
       "      <th>3</th>\n",
       "      <td>115729.095355</td>\n",
       "      <td>115680.388609</td>\n",
       "      <td>158532.678053</td>\n",
       "      <td>158529.404702</td>\n",
       "      <td>141485.642261</td>\n",
       "      <td>141426.952947</td>\n",
       "      <td>-1</td>\n",
       "      <td>1</td>\n",
       "      <td>1</td>\n",
       "    </tr>\n",
       "    <tr>\n",
       "      <th>4</th>\n",
       "      <td>53399.569782</td>\n",
       "      <td>53304.215413</td>\n",
       "      <td>72440.132643</td>\n",
       "      <td>72359.081204</td>\n",
       "      <td>108264.666058</td>\n",
       "      <td>108244.552904</td>\n",
       "      <td>1</td>\n",
       "      <td>-1</td>\n",
       "      <td>-1</td>\n",
       "    </tr>\n",
       "  </tbody>\n",
       "</table>\n",
       "</div>"
      ],
      "text/plain": [
       "    Energy_K1_K2        P_K1_K2   Energy_K1_K3        P_K1_K3   Energy_K2_K3  \\\n",
       "0   59312.848237   59211.181509   37331.391551   37308.534012   75681.554420   \n",
       "1   40065.665041   40022.232171   99009.419207   98975.411119   94344.925710   \n",
       "2   41944.817064   41751.672744   49387.243264   49369.614780   37724.526918   \n",
       "3  115729.095355  115680.388609  158532.678053  158529.404702  141485.642261   \n",
       "4   53399.569782   53304.215413   72440.132643   72359.081204  108264.666058   \n",
       "\n",
       "         P_K2_K3  H1_Charge  H2_Charge  H3_Charge  \n",
       "0   75585.380172         -1          1          1  \n",
       "1   94244.771077          1         -1         -1  \n",
       "2   37581.719924         -1          1          1  \n",
       "3  141426.952947         -1          1          1  \n",
       "4  108244.552904          1         -1         -1  "
      ]
     },
     "execution_count": 100,
     "metadata": {},
     "output_type": "execute_result"
    }
   ],
   "source": [
    "# Calculating the Invariant Mass of every possible Hadron Pair\n",
    "\n",
    "two_body_resonances_df = sql(\"\"\"\n",
    "  select \n",
    "     sqrt({0} + H1_PX*H1_PX + H1_PY*H1_PY + H1_PZ*H1_PZ) +\n",
    "     sqrt({0} + H2_PX*H2_PX + H2_PY*H2_PY + H2_PZ*H2_PZ) as Energy_K1_K2,\n",
    "     sqrt((H1_PX + H2_PX)*(H1_PX + H2_PX) + (H1_PY + H2_PY)*(H1_PY + H2_PY) \n",
    "           + (H1_PZ + H2_PZ)*(H1_PZ + H2_PZ)) as P_K1_K2,\n",
    "     sqrt({0} + H1_PX*H1_PX + H1_PY*H1_PY + H1_PZ*H1_PZ) +\n",
    "     sqrt({0} + H3_PX*H3_PX + H3_PY*H3_PY + H3_PZ*H3_PZ) as Energy_K1_K3,\n",
    "     sqrt((H1_PX + H3_PX)*(H1_PX + H3_PX) + (H1_PY + H3_PY)*(H1_PY + H3_PY) \n",
    "           + (H1_PZ + H3_PZ)*(H1_PZ + H3_PZ)) as P_K1_K3,\n",
    "     sqrt({0} + H2_PX*H2_PX + H2_PY*H2_PY + H2_PZ*H2_PZ) +\n",
    "     sqrt({0} + H3_PX*H3_PX + H3_PY*H3_PY + H3_PZ*H3_PZ) as Energy_K2_K3,\n",
    "     sqrt((H2_PX + H3_PX)*(H2_PX + H3_PX) + (H2_PY + H3_PY)*(H2_PY + H3_PY) \n",
    "           + (H2_PZ + H3_PZ)*(H2_PZ + H3_PZ)) as P_K2_K3,\n",
    "     H1_Charge, H2_Charge, H3_Charge\n",
    "  from B2HHH_AllData_WithCuts\"\"\".format(kcharged_mass*kcharged_mass))\n",
    "\n",
    "two_body_resonances_df.limit(5).toPandas()"
   ]
  },
  {
   "cell_type": "code",
   "execution_count": 101,
   "metadata": {},
   "outputs": [
    {
     "name": "stdout",
     "output_type": "stream",
     "text": [
      "+------------------+------------------+------------------+---------+---------+---------+\n",
      "|        Mass_K1_K2|        Mass_K1_K3|        Mass_K2_K3|H1_Charge|H2_Charge|H3_Charge|\n",
      "+------------------+------------------+------------------+---------+---------+---------+\n",
      "| 3.471303828587013| 1.306171891413032| 3.814181901855551|       -1|        1|        1|\n",
      "|1.8650595784143182| 2.594818979058174| 4.346047856093062|        1|       -1|       -1|\n",
      "| 4.020634479824776| 1.319444470787454|3.2793686448023838|       -1|        1|        1|\n",
      "|3.3572612179719226| 1.018751964103818| 4.074793973001933|       -1|        1|        1|\n",
      "|3.1897761838303795|3.4258115164737077|2.0867877492976117|        1|       -1|       -1|\n",
      "+------------------+------------------+------------------+---------+---------+---------+\n",
      "only showing top 5 rows\n",
      "\n"
     ]
    }
   ],
   "source": [
    "# 2-body resonance invariant mass from two_body_resonances_df\n",
    "\n",
    "two_body_resonances_invariant_mass_GeV_df = two_body_resonances_df.selectExpr( \n",
    "              \"sqrt(Energy_K1_K2*Energy_K1_K2 - P_K1_K2*P_K1_K2) / 1000.0 as Mass_K1_K2\", \n",
    "              \"sqrt(Energy_K1_K3*Energy_K1_K3 - P_K1_K3*P_K1_K3) / 1000.0 as Mass_K1_K3\",\n",
    "              \"sqrt(Energy_K2_K3*Energy_K2_K3 - P_K2_K3*P_K2_K3) / 1000.0 as Mass_K2_K3\",\n",
    "              \"H1_Charge\", \"H2_Charge\", \"H3_Charge\") \n",
    "\n",
    "two_body_resonances_invariant_mass_GeV_df.show(5)"
   ]
  },
  {
   "cell_type": "code",
   "execution_count": 102,
   "metadata": {},
   "outputs": [
    {
     "name": "stdout",
     "output_type": "stream",
     "text": [
      "+-----------------------+--------+\n",
      "|(H2_Charge * H3_Charge)|count(1)|\n",
      "+-----------------------+--------+\n",
      "|                      1|   23895|\n",
      "+-----------------------+--------+\n",
      "\n"
     ]
    }
   ],
   "source": [
    "# Two_body_resonances_invariant_mass_GeV_df.filter(\"H1_Charge * H2_Charge = -1\").show()\n",
    "\n",
    "two_body_resonances_invariant_mass_GeV_df.createOrReplaceTempView(\"t1\")\n",
    "sql(\"select H2_Charge * H3_Charge, count(*) from t1 group by H2_Charge * H3_Charge\").show()"
   ]
  },
  {
   "cell_type": "code",
   "execution_count": 107,
   "metadata": {},
   "outputs": [
    {
     "data": {
      "image/png": "[encoded data removed]",
      "text/plain": [
       "<Figure size 936x576 with 1 Axes>"
      ]
     },
     "metadata": {
      "needs_background": "light"
     },
     "output_type": "display_data"
    }
   ],
   "source": [
    "# plot the invariant mass for one of these combinations\n",
    "\n",
    "two_body_resonances_invariant_mass_GeV_df.filter(\"H1_Charge + H2_Charge = 0\").select(\"Mass_K1_K2\") \\\n",
    "   .toPandas().plot.hist(bins=101, range=[0, 10],\n",
    "title=\"Histogram - distribution of K1_K2 resonance invariant mass, simulation data\", color=\"orange\") \n",
    "xlabel('b_meson_invariant_mass (GeV)')\n",
    "ylabel('Count');"
   ]
  },
  {
   "cell_type": "code",
   "execution_count": 104,
   "metadata": {},
   "outputs": [
    {
     "data": {
      "text/plain": [
       "23895"
      ]
     },
     "execution_count": 104,
     "metadata": {},
     "output_type": "execute_result"
    }
   ],
   "source": [
    "two_body_resonances_invariant_mass_GeV_df.filter(\"H1_Charge * H3_Charge = -1\").count()"
   ]
  },
  {
   "cell_type": "code",
   "execution_count": 106,
   "metadata": {},
   "outputs": [
    {
     "data": {
      "image/png": "[encoded data removed]",
      "text/plain": [
       "<Figure size 936x576 with 1 Axes>"
      ]
     },
     "metadata": {
      "needs_background": "light"
     },
     "output_type": "display_data"
    }
   ],
   "source": [
    "# Make a Dalitz plot with labelled axes for the simulation data\n",
    "\n",
    "# This is achieved by plotting a scatter graph from Mass_12 squared vs. Mass_13 squared\n",
    "# As in the text of the exercise, add a filter on data that the possible resonance has charge 0\n",
    "\n",
    "dalitz_plot_df = two_body_resonances_invariant_mass_GeV_df \\\n",
    "                .filter(\"H1_Charge + H2_Charge = 0\").filter(\"H1_Charge + H3_Charge = 0\") \\\n",
    "                .selectExpr(\"Mass_K1_K2*Mass_K1_K2 as M12_squared\", \"Mass_K1_K3*Mass_K1_K3 as M13_squared\")\n",
    "\n",
    "dalitz_plot_df.toPandas().plot.scatter(x='M12_squared', y='M13_squared',\n",
    "title=\"Dalitz plot, B+/- meson decay into thre kaons, simulation data\", color=\"green\")\n",
    "xlabel('Mass_K1_K2 squared (GeV^2)')\n",
    "ylabel('Mass_K1_K3 squared (GeV^2)');"
   ]
  }
 ],
 "metadata": {
  "kernelspec": {
   "display_name": "Python 3",
   "language": "python",
   "name": "python3"
  },
  "language_info": {
   "codemirror_mode": {
    "name": "ipython",
    "version": 3
   },
   "file_extension": ".py",
   "mimetype": "text/x-python",
   "name": "python",
   "nbconvert_exporter": "python",
   "pygments_lexer": "ipython3",
   "version": "3.6.7"
  },
  "toc": {
   "base_numbering": 1,
   "nav_menu": {},
   "number_sections": true,
   "sideBar": true,
   "skip_h1_title": false,
   "title_cell": "Table of Contents",
   "title_sidebar": "Contents",
   "toc_cell": false,
   "toc_position": {},
   "toc_section_display": true,
   "toc_window_display": false
  },
  "varInspector": {
   "cols": {
    "lenName": 16,
    "lenType": 16,
    "lenVar": 40
   },
   "kernels_config": {
    "python": {
     "delete_cmd_postfix": "",
     "delete_cmd_prefix": "del ",
     "library": "var_list.py",
     "varRefreshCmd": "print(var_dic_list())"
    },
    "r": {
     "delete_cmd_postfix": ") ",
     "delete_cmd_prefix": "rm(",
     "library": "var_list.r",
     "varRefreshCmd": "cat(var_dic_list()) "
    }
   },
   "types_to_exclude": [
    "module",
    "function",
    "builtin_function_or_method",
    "instance",
    "_Feature"
   ],
   "window_display": false
  }
 },
 "nbformat": 4,
 "nbformat_minor": 2
}
